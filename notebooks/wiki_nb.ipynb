{
 "cells": [
  {
   "cell_type": "code",
   "execution_count": 1,
   "metadata": {
    "collapsed": true
   },
   "outputs": [],
   "source": [
    "import pandas as pd\n",
    "import requests\n",
    "import re\n",
    "import numpy as np\n",
    "import pickle\n",
    "from sklearn.naive_bayes import MultinomialNB\n",
    "from sklearn.feature_extraction.text import TfidfVectorizer, CountVectorizer, TfidfTransformer\n",
    "from sklearn.model_selection import train_test_split\n",
    "from sklearn.metrics import roc_auc_score\n",
    "from nltk import tokenize, stem, corpus"
   ]
  },
  {
   "cell_type": "code",
   "execution_count": 2,
   "metadata": {
    "collapsed": true
   },
   "outputs": [],
   "source": [
    "df = pd.read_csv('../data/raw/baseball/Master.csv')"
   ]
  },
  {
   "cell_type": "code",
   "execution_count": 225,
   "metadata": {
    "collapsed": false
   },
   "outputs": [
    {
     "data": {
      "text/plain": [
       "(18846, 25)"
      ]
     },
     "execution_count": 225,
     "metadata": {},
     "output_type": "execute_result"
    }
   ],
   "source": [
    "df.shape"
   ]
  },
  {
   "cell_type": "code",
   "execution_count": 8,
   "metadata": {
    "collapsed": true
   },
   "outputs": [],
   "source": [
    "df['nameFull'] = df['nameFirst'] + ' ' + df['nameLast']"
   ]
  },
  {
   "cell_type": "code",
   "execution_count": 224,
   "metadata": {
    "collapsed": false
   },
   "outputs": [
    {
     "data": {
      "text/plain": [
       "(18807, 25)"
      ]
     },
     "execution_count": 224,
     "metadata": {},
     "output_type": "execute_result"
    }
   ],
   "source": [
    "df[df['nameFull'].notnull()].shape"
   ]
  },
  {
   "cell_type": "code",
   "execution_count": 10,
   "metadata": {
    "collapsed": false
   },
   "outputs": [],
   "source": [
    "sample = df[['playerID', 'nameFull']].sample(n=100)"
   ]
  },
  {
   "cell_type": "code",
   "execution_count": 11,
   "metadata": {
    "collapsed": false
   },
   "outputs": [
    {
     "data": {
      "text/html": [
       "<div>\n",
       "<style>\n",
       "    .dataframe thead tr:only-child th {\n",
       "        text-align: right;\n",
       "    }\n",
       "\n",
       "    .dataframe thead th {\n",
       "        text-align: left;\n",
       "    }\n",
       "\n",
       "    .dataframe tbody tr th {\n",
       "        vertical-align: top;\n",
       "    }\n",
       "</style>\n",
       "<table border=\"1\" class=\"dataframe\">\n",
       "  <thead>\n",
       "    <tr style=\"text-align: right;\">\n",
       "      <th></th>\n",
       "      <th>playerID</th>\n",
       "      <th>nameFull</th>\n",
       "    </tr>\n",
       "  </thead>\n",
       "  <tbody>\n",
       "    <tr>\n",
       "      <th>7049</th>\n",
       "      <td>harrera01</td>\n",
       "      <td>Ray Harrell</td>\n",
       "    </tr>\n",
       "    <tr>\n",
       "      <th>17950</th>\n",
       "      <td>weisswa01</td>\n",
       "      <td>Walt Weiss</td>\n",
       "    </tr>\n",
       "    <tr>\n",
       "      <th>14272</th>\n",
       "      <td>rigglji99</td>\n",
       "      <td>Jim Riggleman</td>\n",
       "    </tr>\n",
       "    <tr>\n",
       "      <th>1930</th>\n",
       "      <td>brottto01</td>\n",
       "      <td>Tony Brottem</td>\n",
       "    </tr>\n",
       "    <tr>\n",
       "      <th>524</th>\n",
       "      <td>austiri01</td>\n",
       "      <td>Rick Austin</td>\n",
       "    </tr>\n",
       "  </tbody>\n",
       "</table>\n",
       "</div>"
      ],
      "text/plain": [
       "        playerID       nameFull\n",
       "7049   harrera01    Ray Harrell\n",
       "17950  weisswa01     Walt Weiss\n",
       "14272  rigglji99  Jim Riggleman\n",
       "1930   brottto01   Tony Brottem\n",
       "524    austiri01    Rick Austin"
      ]
     },
     "execution_count": 11,
     "metadata": {},
     "output_type": "execute_result"
    }
   ],
   "source": [
    "sample.head()"
   ]
  },
  {
   "cell_type": "code",
   "execution_count": 19,
   "metadata": {
    "collapsed": true
   },
   "outputs": [],
   "source": [
    "query_article_url = 'https://en.wikipedia.org/w/api.php'\n",
    "\n",
    "search_params = {\n",
    "    'action' : 'query',\n",
    "    'format' : 'json',\n",
    "    'list' : 'search',\n",
    "    #'srsearch' : term,\n",
    "    'srlimit' : 5\n",
    "    #'srprop' : 'snippet|categorysnippet|sectionsnippet|titlesnippet'\n",
    "}"
   ]
  },
  {
   "cell_type": "code",
   "execution_count": 212,
   "metadata": {
    "collapsed": false
   },
   "outputs": [],
   "source": [
    "search_params['srsearch'] = 'Whitey Alpermann'\n",
    "results = requests.get(query_article_url, params=search_params).json()"
   ]
  },
  {
   "cell_type": "code",
   "execution_count": 213,
   "metadata": {
    "collapsed": false
   },
   "outputs": [
    {
     "data": {
      "text/plain": [
       "{'batchcomplete': '',\n",
       " 'query': {'search': [],\n",
       "  'searchinfo': {'suggestion': 'whitey alperman',\n",
       "   'suggestionsnippet': 'whitey <em>alperman</em>',\n",
       "   'totalhits': 0}}}"
      ]
     },
     "execution_count": 213,
     "metadata": {},
     "output_type": "execute_result"
    }
   ],
   "source": [
    "results"
   ]
  },
  {
   "cell_type": "code",
   "execution_count": 22,
   "metadata": {
    "collapsed": false
   },
   "outputs": [
    {
     "data": {
      "text/plain": [
       "{'batchcomplete': '',\n",
       " 'query': {'pages': {'11173690': {'ns': 0,\n",
       "    'pageid': 11173690,\n",
       "    'revisions': [{'*': '{{Infobox NFL biography\\n|name=Graham Harrell\\n|image=Graham Harrell1.jpg\\n|image_size=225\\n|caption=Harrell with the [[Green Bay Packers|Packers]] in [[2011 Green Bay Packers season|2011]]\\n|current_team=North Texas Mean Green\\n|number=<!-- 6 -->\\n|position=[[Offensive Coordinator]] & [[Quarterback]]s coach<!--[[Quarterback]]-->\\n|birth_date={{birth date and age|1985|5|22}}\\n|birth_place=[[Brownwood, Texas]]  <ref>{{cite web|last=Harrell|first=Graham|title=Texas, Birth Index, 1903-1997|url=https://familysearch.org/pal:/MM9.1.1/V697-2CK|work=FamilySearch.org|accessdate=13 December 2013}}</ref><ref>{{cite web|last=Harrell|first=Graham|title=Player Stats|url=http://www.nfl.com/player/grahamharrell/71321/profile|work=NFL.com|accessdate=13 December 2013}}</ref>\\n|death_date= \\n|death_place= \\n|height_ft = 6\\n|height_in = 2\\n|weight_lbs = 215\\n|high_school = [[Ennis High School|Ennis (TX)]]\\n|college=[[Texas Tech Red Raiders football|Texas Tech]]\\n|undraftedyear=2009\\n|pastteams= \\n* [[Saskatchewan Roughriders]] ({{CFL Year|2009}})*\\n* [[Green Bay Packers]] ({{NFL Year|2010}}–{{NFL Year|2012}})\\n* [[New York Jets]] ({{NFL Year|2013}})*\\n|pastteamsnote = yes\\n|pastcoaching=\\n* [[Oklahoma State Cowboys football|Oklahoma State]] (2009)<br>Quality control coach\\n* [[Washington State Cougars football|Washington State]] (2014–2015)<br>Outside wide receivers coach\\n* [[North Texas Mean Green football|North Texas]] (2016–present)<br>Offensive coordinator & quarterbacks coach\\n|highlights= \\n* [[Super Bowl]] champion ([[Super Bowl XLV|XLV]])\\n* [[Sporting News College Football Player of the Year|\\'\\'Sporting News\\'\\' Player of the Year]] (2008)\\n* [[Sammy Baugh Trophy]] (2008)\\n* [[Johnny Unitas Golden Arm Award]] (2008)\\n|statlabel1=Pass Attempts\\n|statvalue1=4\\n|statlabel2=Completions\\n|statvalue2=2\\n|statlabel3=Percentage\\n|statvalue3=50.0\\n|statlabel4=Passing yards\\n|statvalue4=20\\n|statlabel5=TD-INT\\n|statvalue5=0-0\\n|nfl=HAR307395\\n|cfl=2799\\n}}\\n\\'\\'\\'Graham Stanton Harrell\\'\\'\\' (born May 22, 1985) is an [[American Football]] assistant coach and former [[American football]] and [[Canadian football]] [[quarterback]]. He is currently the offensive coordinator and quarterbacks coach for the [[North Texas Mean Green]]. He had been an assistant for the [[Washington State Cougars]] for the previous two seasons and had also worked for [[Oklahoma State]] in a quality control position . He played [[college football]] at [[Texas Tech Red Raiders football|Texas Tech University]], where he was an All-American quarterback, [[Heisman Trophy]] finalist in 2008, and set [[Texas Tech Red Raiders football statistical leaders|school]], conference and national records for passing yards, attempts, completions, and touchdown passes. Harrell was signed into the [[National Football League]] in 2010 by the [[Green Bay Packers]]. He was a part of the [[Super Bowl XLV]] win with the Packers over the [[Pittsburgh Steelers]]. He was also a member the [[New York Jets]]. Prior to his time in the NFL, he was signed by the [[Saskatchewan Roughriders]] in 2009 as an [[undrafted free agent]] in the [[Canadian Football League]].\\n\\n==Early years==\\nHarrell was born to Sam and Kathy Harrell in [[Brownwood, Texas]], where his father was an assistant under legendary Texas high school football coach [[Gordon Wood (American football coach)|Gordon Wood]]. His father was hired as Head Coach at [[Ennis High School]] in [[Ennis, Texas]]. Harrell played at EHS under his father\\'s coaching. He was the starting quarterback for three seasons and led the Ennis Lions to a state [[University Interscholastic League#Groupings|Class 4A]] title as a sophomore in 2001. He also played in the 2004 [[Oil Bowl (high school)|Oil Bowl]], receiving the offensive MVP award.<ref name=\"Oil Bowl\">{{cite web |url = http://www.nflhs.com/StateStories.aspx?id=6769&state=LA |title = Texas Beats Oklahoma in 67th Annual Oil Bowl |accessdate = 2007-05-11 |date =  |publisher = NFLHS.com |deadurl = yes |archiveurl = https://web.archive.org/web/20070927044735/http://www.nflhs.com/StateStories.aspx?id=6769&state=LA |archivedate = 2007-09-27 |df =  }}</ref> Harrell set Texas high school records in the following categories:<ref name=\"High school\">{{cite web |url = http://www.dallasnews.com/sharedcontent/dws/spt/highschools/schoolday/stories/091505dnspocentralcover.17729b79.html |title = SchoolDay: Oh, brother! |accessdate = 2007-05-11 |date = 2005-09-15 |publisher = [[Dallas Morning News]]}}</ref>\\n* Single-season passing yards (4,825 in 2003 over 13 games; the next two quarterbacks on the list set their records over 16-game seasons). This record stood until 2007 when it was broken by [[Lake Travis High School|Lake Travis]] quarterback [[Garrett Gilbert]].<ref>{{cite news |first=Danny |last=Davis |url=http://www.statesman.com/sports/content/sports/stories/highschool/01/11/0111prepfoot.html |title=It took a while, but Lake Travis confirms Gilbert\\'s third state record |accessdate=2008-02-07 |date=2007-01-10 |work=[[Austin American-Statesman]] }}{{dead link|date=February 2017|bot=medic}}{{cbignore|bot=medic}}</ref>\\n* Career passing yards (12,532 from 2000&ndash;2003; Broken by Gilbert in 2008).<ref>{{cite news|url=http://www.dallasnews.com/sharedcontent/APStories/stories/D956OJUO0.html|title=Lake Travis beats Longview, 48-23 }}</ref>\\n* Single-season touchdown passes (67 in 2003)\\n* Career touchdown passes (167 from 2000&ndash;2003)<ref name=\"Texas High School Football Records\">{{cite news |url=http://lonestargridiron.com/history-records/all-time-individual-team-records/passing-career-touchdown-leaders/|title=Texas High School Football Passing Career Touchdown Leaders|publisher=Lone Star Gridiron}}</ref>\\n* Single-season pass completions (334 in 2003; also broken by Gilbert, who recorded 359 completions in 2007).<ref>{{cite news|url=http://www.statesman.com/sports/content/sports/stories/highschool/12/28/1228gilbert.html |title=A truly Fabulous year for Lake Travis\\' Gilbert |deadurl=yes |archiveurl=https://web.archive.org/web/20090204121625/http://www.statesman.com/sports/content/sports/stories/highschool/12/28/1228gilbert.html |archivedate=2009-02-04 |df= }}</ref>\\nIn addition, Harrell ranks second in career pass completions (805 from 2000&ndash;2003).\\n\\n==College career==\\n\\n===Freshman and redshirt freshman seasons===\\nIn 2004, Harrell [[Redshirt (college sports)|redshirted]] his first season at Texas Tech. The following season, he served as the backup quarterback behind another Texas Tech record setter, [[Cody Hodges]], who led college football in passing yards in 2005.\\n\\n===Sophomore season===\\nHarrell started in every game of the 2006 season, beating out classmate [[Chris Todd]]. Harrell got the Raiders off to a quick start with wins over [[Southern Methodist University]], [[The University of Texas at El Paso]], [[Southeastern Louisiana University]] and conference rival the [[Texas A&M Aggies]]. The lone Red Raider loss was to [[Texas Christian University]], 12–3 in the third game of the season. Despite the 4–1 start, Harrell was benched halfway through the next game due to poor play after the Raiders fell behind the [[Missouri Tigers football|Missouri Tigers]] 24–0, and Todd was inserted for two series. Harrell came back into the game and got the Raiders within 3 points before the half but struggled in the second half as Tech lost 38–21. The next week against a winless [[Colorado Buffaloes football|Colorado]] team that Tech was heavily favored to beat, Harrell once again was benched in favor of Todd for a 4 interception game resulting in a 30–6 loss. However, Harrell rebounded to throw for 6 touchdowns against the [[Iowa State Cyclones]] and then threw for 519 yards and 3 touchdowns against the [[Texas Longhorns]] in a narrow 35–31 loss. The Raiders finished the season with a 55–21 win against the Baylor Bears, a 34–24 loss to the Oklahoma Sooners, and a 30–24 win against the Oklahoma State Cowboys. Texas Tech finished the regular season 7–5 (4–4 in the Big 12) and received an invitation to the [[2006 Insight Bowl]]. The 7–5 Red Raiders faced off against the 6–6 Minnesota Golden Gophers at the [[2006 Insight Bowl]] in [[Tempe, Arizona]]. Texas Tech struggled on both offense and defense during first 3 quarters of the Insight Bowl. The [[2006 Minnesota Golden Gophers football team|Minnesota Golden Gophers]] outscored Tech 38–7 through the end of the 3rd quarter. The Red Raiders, sparked by a 43-yard touchdown from Harrell to [[Joel Filani]], went on to outscore the Gophers 31–0 through the end of regulation sending the game into overtime. On the final drive, Harrell drove the Red Raider offense almost 70 yards in less than a minute to set up the game-tying field goal by [[Alex Trlica]]. Following a Minnesota field goal, Tech scored a touchdown to win the game 44–41 capping a 31-point deficit; the largest come-from-behind victory in [[National Collegiate Athletic Association|NCAA]] FBS bowl history. Harrell threw for 445 yards, 2 touchdowns, and 1 rushing touchdown and was named the Offensive MVP.<ref name=Insight /> Tech finished the year 8–5, their 13th straight winning season, and their fifth straight season with at least 8 wins 4th bowl win out of the previous 5 seasons. He threw for 38 touchdowns and 4,555 passing yards, the third-most by a sophomore in [[NCAA Division I FBS]] history and the most ever thrown by a sophomore in the history of the [[Big 12 Conference|Big 12]].\\n\\n===Junior season===\\nHarrell passed on entering the 2007 NFL draft. He continued the success of the previous season, mainly due to the addition of All-American Wideout [[Michael Crabtree]] and the emergence of inside receivers [[Danny Amendola]] and [[Eric Morris (coach)|Eric Morris]]. The Raiders started the season off with wins over the SMU Mustangs 49–9, the UTEP Miners 45–31, and the Rice Owls 59–24. Harrell then had a career day against the [[Oklahoma State Cowboys]] throwing for 5 touchdowns and 646 yards, however due to the poor play of the Tech defense, the Raiders lost to the Cowboys 49–45. Harrell was still given recognition as the AT&T player of the week for his performance despite the loss. The Raiders then reeled off lopsided wins over [[Northwestern State Demons football|Northwestern State]], [[Iowa State]], and [[Texas A&M Aggies football|Texas A&M]] pushing their record to 6–1 and into the national rankings. Harrell being mentioned as a dark horse candidate for the [[Heisman Trophy]]. The Raiders then dropped two games to Missouri and Colorado which knocked Tech out of the national conversation, but rebounded to beat Baylor 38–7. Harrell led the Red Raiders into Austin, Texas to face off against [[Colt McCoy]] and the Texas Longhorns, in a back and forth affair that Texas won 59–43 by simply outscoring Tech. The Raiders upset the # 4 ranked [[Oklahoma Sooners]] in Lubbock to finish the regular season 8–4 overall and 4–4 and third place in the Big 12 South. Tech was invited to the [[Gator Bowl]] where they knocked off a ranked [[Virginia Cavaliers football|Virginia Cavalier]] team 31–28 to finish 9–4 overall and ranked # 22 in the country. Harrell was named the game\\'s Most Valuable player. He was then awarded the [[Sammy Baugh Trophy]] awarded to the best passer in College Football. He finished the season with a 71.8% completion percentage, throwing for 5,705 yards and 48 touchdowns.\\n\\n===Senior season===\\nEntering his senior season, Harrell had 89 career passing touchdowns, putting him within range of [[Colt Brennan]]\\'s NCAA record of 131 touchdowns.<ref>{{cite news|url=http://www.profootballweekly.com/PFW/NFLDraft/Draft+Extras/2008/harrell070408.htm |archive-url=https://web.archive.org/web/20081011221650/http://www.profootballweekly.com/PFW/NFLDraft/Draft+Extras/2008/harrell070408.htm |dead-url=yes |archive-date=2008-10-11 |title=Shaking the ‘system’ label |publisher=Pro Football Weekly |accessdate=2008-11-09 |date=2008-07-05 |author=Wolff, Josh |df= }}</ref> Before the beginning of his final season, [[CBS Sports]] listed Harrell as a Heisman hopeful. Tech [[wide receiver]] Michael Crabtree\\'s name also appeared on the list.<ref>{{cite web|url=http://www.sportsline.com/collegefootball/heisman|title=Heisman Hopefuls|publisher=[[CBS Sports]]|accessdate=2008-04-10}}</ref> Harrell was also named one of 26 candidates for the 2008 [[Johnny Unitas Golden Arm Award|Unitas Award]], given to the nation\\'s best senior college football quarterback.<ref>{{cite news|url=http://www.news-leader.com/apps/pbcs.dll/article?AID=/20080613/BREAKING02/80613058 |title=MU\\'s Chase Daniel on Unitas Award watch list |deadurl=yes |archiveurl=https://web.archive.org/web/20080614094901/http://www.news-leader.com/apps/pbcs.dll/article?AID=%2F20080613%2FBREAKING02%2F80613058 |archivedate=2008-06-14 |df= }}</ref> Additionally, his name appeared among 30 other quarterbacks in the [[Davey O\\'Brien Award]] watch list.<ref>{{cite press release|url=http://www.daveyobrien.org/adminnm/templates/press.asp?articleid=111&zoneid=16 |title=2008 O’Brien Quarterback Award Watch List Released |deadurl=yes |archiveurl=https://web.archive.org/web/20110725222059/http://www.daveyobrien.org/adminnm/templates/press.asp?articleid=111&zoneid=16 |archivedate=2011-07-25 |df= }}</ref> Harrell, along with Coach [[Mike Leach (American football coach)|Mike Leach]] and teammate [[Michael Crabtree]] were featured on the cover of the 2008 edition of \\'\\'[[Dave Campbell\\'s Texas Football]]\\'\\'.<ref>{{cite web|url=http://www.kdhnews.com/news/story.aspx?s=26057 |title=Campbell picks Cove to win District 12-5A |publisher=Killeen Daily Herald |date=2008-06-17 |accessdate=2008-06-20 |deadurl=yes |archiveurl=https://web.archive.org/web/20090110024723/http://www.kdhnews.com/news/story.aspx?s=26057 |archivedate=2009-01-10 |df= }}</ref>\\n\\nTo support the Heisman campaign of both Harrell and Crabtree, Texas Tech created a website called PassOrCatch2008.com, which is modeled after political campaigns. The site garnered national attention and was awarded a Telly Award which honors the best in local, regional, and cable commercials and programs, as well as online videos, films, and commercials.<ref>{{cite news|last=Williams|first=Don|title=Tech site gets national attention|work=[[Lubbock Avalanche-Journal]]|date=2008-10-08|url=http://www.lubbockonline.com/stories/100808/spo_341503548.shtml|accessdate=2008-10-10}}</ref><ref>{{cite web|url=http://today.ttu.edu/2009/05/texas-tech-athletics-media-relations-office-heisman-campaign-wins-national-award/|title=Texas Tech Athletics Media Relations Office Heisman Campaign Wins National Award|last=Post|first=Sally Logue|date=2009-05-14|work=Texas Tech University News|accessdate=2009-05-14}}</ref> After leading the Red Raiders to a victory over the #1 [[2008 Texas Longhorns football team|Texas Longhorns]], Harrell and teammate Daniel Charbonnet were selected for Big 12 player of the week honors.<ref>{{cite news|title=Big 12 notebook: Still more big games left|publisher=SportingNews.com|url=http://www.sportingnews.com/yourturn/viewtopic.php?t=483042|accessdate=2008-11-07}}{{dead link|date=September 2017 |bot=InternetArchiveBot |fix-attempted=yes }}</ref> Harrell also leaped McCoy to make it to the top of the Heisman poll.<ref>{{cite news|title=Harrell overtakes McCoy in Heisman poll|work=[[Austin American-Statesman]]|date=2008-11-03|url=http://www.statesman.com/blogs/content/shared-gen/blogs/austin/longhorns/entries/2008/11/03/harrell_overtak.html|accessdate=2008-11-07|deadurl=yes|archiveurl=https://web.archive.org/web/20081106144742/http://www.statesman.com/blogs/content/shared-gen/blogs/austin/longhorns/entries/2008/11/03/harrell_overtak.html|archivedate=2008-11-06|df=}}</ref> Harrell was also one of ten finalists for the [[Johnny Unitas Golden Arm Award]] and one of thirteen finalists for the [[Davey O\\'Brien Award]].<ref>{{cite news|title=Harrell Among Unitas Finalists: Texas Tech senior quarterback one of 10 vying for prestigious award|publisher=Texas Tech Athletics|date=2008-10-14|url=http://texastech.cstv.com/sports/m-footbl/spec-rel/101408aaa.html|accessdate=2008-10-19}}</ref><ref>{{cite news|title=Harrell Among Unitas Finalists: Texas Tech senior quarterback one of 10 vying for prestigious award|publisher=[[KSCW-DT]]|date=2008-10-27|url=http://www.kansascw.com/Global/story.asp?S=9247003|accessdate=2008-10-27}}{{dead link|date=September 2017 |bot=InternetArchiveBot |fix-attempted=yes }}</ref><ref>{{cite web|url=http://www.sportsline.com/collegefootball/story/11120443|title=Just another TT QB? No, Harrell is a shock to the system|deadurl=yes|archiveurl=https://archive.is/20130203191921/http://www.sportsline.com/collegefootball/story/11120443|archivedate=2013-02-03|df=}}</ref>\\n\\nFollowing the inaugural game of the [[2008 Texas Tech Red Raiders football team|2008 season]], where Texas Tech defeated the [[Eastern Washington University|Eastern Washington Eagles]], 49–24, Harrell was selected as the [[AT&T ESPN All-America Player]].<ref>{{cite web|title=Texas Tech: Harrell Named AT&T All-America Player of the Week|publisher=[[National Collegiate Athletic Association|NCAA]]|date=2008-09-04|url=https://www.ncaa.com/football/article.aspx?id=342596|accessdate=2008-09-05}} {{Dead link|date=October 2010|bot=H3llBot}}</ref> After the Red Raiders 58–28 victory over the [[2008 Kansas State Wildcats football team|Kansas State Wildcats]], Harrell received two more honors. He was recognized as the Big 12 Offensive Player of the Week and the [[Davey O\\'Brien Award|O\\'Brien]] Quarterback of the Week.<ref>{{cite news|last=Price|first=Dwain|title=Texas Tech: Graham Harrell named the Big 12 Offensive Player of the Week|date=2008-10-07|url=http://www.star-telegram.com/college_sports/story/956579.html|accessdate=2008-10-07}} {{Dead link|date=October 2010|bot=H3llBot}}</ref><ref name=Record>{{cite web|title=Harrell named O\\'Brien Quarterback of the Week|publisher=[[National Collegiate Athletic Association|NCAA]]|date=2008-10-07|url=http://www.ncaafootball.com/index.php?s=&url_channel_id=34&url_article_id=13954&change_well_id=2|accessdate=2008-10-07}} {{Dead link|date=October 2010|bot=H3llBot}}</ref> During the game against Kansas State, Harrell broke the all-time record for passing yards at Texas Tech. The previous record, set by [[Kliff Kingsbury]], was 12,429&nbsp;yards. After the game, Harrell\\'s record stood at 12,709&nbsp;yards.<ref name=Record /> Following the 63–21 win over #18 [[2008 Kansas Jayhawks football team|Kansas]] on October 25, 2008, Harrell was again named Big 12 Offensive Player of the Week. Teammate Matt Williams was named the Special Teams Player of the Week.<ref>{{cite web|title=Harrell, Lewis and Williams Named Big 12&nbsp;football Players of the Week|publisher=[[Big 12 Conference]]|date=2008-10-27|url=http://www.big12sports.com/ViewArticle.dbml?DB_OEM_ID=10410&ATCLID=1612362|accessdate=2008-10-27}}</ref> After Tech\\'s 65–21 loss to Oklahoma, Harrell\\'s chances of winning the Heisman were reduced.<ref>{{cite news|url=http://www.iht.com/articles/ap/2008/11/23/sports/FBC-T25-Texas-Tech-Harrell.php|title= Dreams of Harrell, Texas Tech come crashing down}}</ref> Harrell finished fourth in the Heisman race but did not receive an invitation to attend the presentation ceremony. Michael Crabtree finished fifth.<ref>{{cite news|last=Thamel|first=Pete|title=A Few Heisman Nuggets|work=[[The New York Times]]|date=2008-12-13|url=http://thequad.blogs.nytimes.com/2008/12/13/a-few-heisman-nuggets/|accessdate=2008-12-14}}</ref>\\n\\n[[File:Harrellbrokenfingers3.jpg|thumb|Playing with 2 broken fingers on his left hand, Harrell leads Tech to victory over Baylor.]]\\nIn the final regular season game against Baylor, Harrell shattered two of his fingers (the pinkie and middle finger) of his non-throwing hand during the second quarter. At halftime, Harrell\\'s hand was x-rayed, and medical examiners advised Harrell to discontinue playing in the game. Harrell replied, \"Tape my hand up. I\\'m going out.\" Harrell played the rest of the game with black tape around his fingers. He finished with 309 total passing yards and two touchdowns. With the victory, Tech clinched a share of the [[Big 12 South]] title, though fell short at going to the Big 12 Championship Game. On the day following the Baylor game, Harrell underwent a four-hour surgery, in which 17 pins and two plates were inserted into his injured hand to heal nine different breaks. He was later cleared to play in the postseason bowl game.<ref>{{cite news|url=http://sports.espn.go.com/ncf/news/story?id=3736000|title=Harrell has pins, plates put in left hand; should be fine for bowl}}</ref>\\n\\nOn December 2, 2008, Harrell and teammate Michael Crabtree were named as [[Walter Camp Award]] finalists.<ref>{{cite news|title=Florida\\'s Tebow, Charlie Strong finalists for national awards |work=[[St. Petersburg Times]] |date=2008-12-02 |url=http://blogs.tampabay.com/gators/2008/12/floridas-tebow.html |accessdate=2008-12-02 |deadurl=yes |archiveurl=https://web.archive.org/web/20081206074303/http://blogs.tampabay.com/gators/2008/12/floridas-tebow.html |archivedate=December 6, 2008 }}</ref>\\n\\nOn December 4, 2008, the [[American Football Coaches Association]] compiled its 2008 AFCA Coaches\\' All-American Team, with Harrell headlining the list.<ref name=\"afca.com\">{{cite web|title=Texas Tech\\'s Harrell Headlines 2008 AFCA Coaches\\' All-American Team |publisher=[[American Football Coaches Association]] |date=2008-12-04 |url=http://www.afca.com/ViewArticle.dbml?DB_OEM_ID=9300&ATCLID=3627599 |accessdate=2008-12-04 |deadurl=yes |archiveurl=https://web.archive.org/web/20081207054447/http://www.afca.com/ViewArticle.dbml?DB_OEM_ID=9300&ATCLID=3627599 |archivedate=2008-12-07 |df= }}</ref>\\n\\nIn December 2008, Harrell, Coach Mike Leach, Leach\\'s wife, and Blayne Beal, the associate Tech media relations director, were in [[Baltimore]] for the presentation of the [[Johnny Unitas Golden Arm Award]] to Harrell. While there, they received an invitation to [[Washington, D.C.]], to meet the president. On December 13, 2008, the group toured the [[White House]] and met with President [[George W. Bush]], who disclosed that he watches college football on a regular basis. Bush also told Leach that he frequently talks with his 1978 congressional election rival, [[Kent Hance]], the Texas Tech chancellor.<ref>Don Williams, \"Harrell, Leach tour White House\", \\'\\'[[Lubbock Avalanche-Journal]]\\'\\', December 14, 2008:http://www.redraiders.com/?p=4278</ref>\\n\\nOn October 25, 2008, Graham Harrell passed [[Philip Rivers]] to move into sole possession of third place for passing yardage in a career. On November 22, 2008, Harrell passed [[Ty Detmer]] to move into second for passing yardage in a career behind [[Timmy Chang]].<ref>{{cite web|url=http://sports.espn.go.com/ncf/recap?gameId=283270201|title=\\'Oklahoma\\'s message soundly delivered with destruction of Texas Tech}}</ref> On January 2, 2009, Harrell played his final collegiate game, a 34-47 loss to [[2008 Ole Miss Rebels football team|Ole Miss]] in the [[2009 Cotton Bowl Classic|2009 AT&T Cotton Bowl Classic]]. In the game, Harrell finished his college career with an NCAA all-time record of 134 passing touchdowns, breaking the previous mark of 131 set by [[Colt Brennan]]. He also equaled Brennan\\'s record of 147 career touchdowns passing, rushing, and receiving, a record that would be broken [[2009 NCAA Division I FBS football season|the following year]] by [[Central Michigan Chippewas football|Central Michigan\\'s]] [[Dan LeFevour]]. Harrell also compiled 5,111 passing yards in the season, becoming the first NCAA player to post multiple 5,000-yard passing seasons.<ref>{{cite news|url=http://www.dallasnews.com/sharedcontent/dws/spt/colleges/topstories/stories/010309dnspocottonlede.30bcf149.html|title=Bold Miss: Texas Tech no match for Rebels, 47-34}}</ref>\\n\\n===NCAA records===\\nHarrell holds 8 Individual NCAA records. See also [[Texas Tech Red Raiders football team#NCAA records held by individual Red Raiders|NCAA records held by individual Red Raiders]]\\n{| class=\"wikitable sortable\" cellpadding=\"1\" style=\"width:75%\"\\n| colspan=\"1\" style=\"{{CollegePrimaryStyle|Texas Tech Red Raiders|color=white}}; text-align: center\"|\\'\\'\\'NCAA record\\'\\'\\'\\n| colspan=\"1\" style=\"{{CollegePrimaryStyle|Texas Tech Red Raiders|color=white}}; text-align: center\"|\\'\\'\\'Statistic\\'\\'\\'\\n|-\\n| align=\"left\"| Most passes completed per season<ref name=\"NCAA Record Book 2015 - FBS\">{{cite web|title=2015 Football Records Book (FBS)|url=http://fs.ncaa.org/Docs/stats/football_records/2015/fbs.pdf|accessdate=2015-09-10|publisher=[[NCAA]]}}</ref>\\n| align=\"left\"| 512 ([[2007 Texas Tech Red Raiders football team|2007]])\\n|-\\n| align=\"left\"| Most passes completed, season per game<ref name=\"NCAA Record Book 2015 - FBS\" />\\n| align=\"left\"| 39.4 ([[2007 Texas Tech Red Raiders football team|2007]])\\n|-\\n| align=\"left\"| Most passes completed, career per game<ref name=\"NCAA Record Book 2015 - FBS\" />\\n| align=\"left\"| 31.2\\n|-\\n| align=\"left\"| Most games gaining 400 Yards or more passing per season <ref name=\"NCAA Record Book 2015 - FBS\" />\\n| align=\"left\"| 11 ([[2007 Texas Tech Red Raiders football team|2007]]) (13 Games)\\n|-\\n| align=\"left\"| Most games gaining 400 yards or more passing per career<ref name=\"NCAA Record Book 2015 - FBS\" />\\n| align=\"left\"| 20 (Tied)\\n|-\\n| align=\"left\"| Most yards gained against one opponent, career per game<ref name=\"NCAA Record Book 2015 - FBS\" />\\n| align=\"left\"| 486.3 (Minimum 3 Games, vs Texas)\\n|-\\n| align=\"left\"| Most seasons gaining 4,000 yards or more total offense<ref name=\"NCAA Record Book 2015 - FBS\" />\\n| align=\"left\"| 3 (Tied)\\n|-\\n| align=\"left\"|Most games gaining 400 yards or more, career total offense<ref name=\"NCAA Record Book 2015 - FBS\" />\\n| align=\"left\"| 21 (Tied)\\n|-\\n|}\\n\\nThe NCAA Records book also mentions Graham Harrell for the following items:<ref name=\"NCAA Record Book 2015 - FBS\" />\\n\\n* Single-game yards passing: 646 (Rank 6th) (Vs Oklahoma St. Sept. 22, 2007)\\n* Single-game yards, total offense: 643 (Rank 7th) (Vs Oklahoma St. Sept. 22, 2007)\\n* Single-game attempts: 72 (Rank 23rd) (vs Oklahoma Nov. 17, 2007)\\n* single-game completions: 48 (18th) (vs UTEP Sept. 8, 2007)\\n* Single-game completions: 47 (Rank 20th) (vs Oklahoma Nov. 17, 2007)\\n* Season yards passing: 5,705 (Rank 2nd) 2007\\n* Season yards passing: 5,111 (Rank 8th) 2008\\n* Season yards total offense: 5,614 (Rank 5th) 2007\\n* Season yards total offense: 5.096 (Rank 13th) 2008\\n* Season yards per game passing: 438.8 (Rank 3rd) 2007\\n* Season yards per game passing: 393.2 (Rank 14th) 2008\\n* Season yards per game total offense: 431.8 (Rank 3rd) 2007\\n* Season yards per game total offense: 392 (Rank 18th) 2008\\n* Season touchdown passes: 48 (Rank 7th) 2007\\n* Season touchdown passes: 45 (Rank 14th) 2008\\n* Career yards passing: 15,793 (Rank 4th)\\n* Career yards total offense: 15,599 (Rank 5th)\\n* Career yards passing per game: 351 (Rank 3rd)\\n* Career yards  per game total offense: 346.6 (Rank 5th)\\n* Career touchdown passes: 134 (Rank 3rd)\\n* Annual total offense champion: 2007\\n\\nNCAA records reference (Last referenced for 2015 season) <ref name=\"NCAA Record Book 2015 - FBS\" />\\n\\n===Awards and honors===\\nHarrell has received multiple honors, including the 2008 [[Johnny Unitas Golden Arm Award]].\\n\\n{|\\n|-\\n|2006\\n|[[2006 Insight Bowl]] [[Most Valuable Player|MVP]]\\n|Selected\\n|<ref name=Insight>{{cite web|url=http://sports.espn.go.com/ncf/recap?gameId=263630135|title=Down 31, Texas Tech rallies for biggest bowl comeback|accessdate = 2007-05-11|date = 2006-12-29|publisher=[[ESPN.com]]}}</ref>\\n|-\\n|2006\\n|All-Big 12\\n|Selected for honorable-mention\\n|-\\n|2006\\n|Academic All-Big 12\\n|Selected for first team\\n|<ref>{{cite press release|url=http://www.big12sports.com//pdf7/134921.pdf|title=2006 Academic All-Big 12&nbsp;football Team Announced|publisher=Big 12 Conference|accessdate=2008-11-26|date=2006-11-21}}</ref>\\n|-\\n|2007\\n|[[AT&T ESPN All-America Player|AT&T ESPN All-America Player of the Week]]\\n|Selected twice\\n|-\\n|2007\\n|[[Big 12 Conference|All-Big-12]]\\n|Selected for second team\\n|\\n|-\\n|2007\\n|[[Sammy Baugh Trophy]]\\n|Winner\\n|\\n|-\\n|2007\\n|Academic All-Big 12\\n|Selected for first team\\n|<ref>{{cite press release|url=http://www.big12sports.com/fls/10410/oldsite/photos/sports/m-footbl/auto_pdf/07_AAB12_TEAM.pdf?SPSID=106181&SPID=13139&DB_OEM_ID=10410|title=2007 Academic All-Big 12&nbsp;football Team Announced|publisher=Big 12 Conference|accessdate=2008-11-26|date=2007-11-20}}</ref>\\n|-\\n|2008\\n|[[2008 Gator Bowl]] MVP\\n|Selected\\n|<ref>{{cite web |url=http://cbs.sportsline.com/collegefootball/gamecenter/recap/NCAAF_20080101_VA@TXTECH |title=Texas Tech Red Raiders, NCAA Football, Virginia Cavaliers |publisher=CBSSports.com |date= |accessdate=2010-12-28 |deadurl=yes |archiveurl=https://web.archive.org/web/20080331021742/http://cbs.sportsline.com/collegefootball/gamecenter/recap/NCAAF_20080101_VA%40TXTECH |archivedate=2008-03-31 |df= }}</ref>\\n|-\\n|2008\\n|[[AT&T ESPN All-America Player|AT&T ESPN All-America Player of the Week]]\\n|Selected four times\\n|\\n|-\\n|2008\\n|Academic All-Big 12\\n|Selected for first team\\n|Posted a 4.00 [[Grade (education)|GPA]]<ref>{{cite press release|url=http://www.big12sports.com/pdf5/353968.pdf?ATCLID=3623034&SPSID=106181&SPID=13139&DB_OEM_ID=10410|title=2008 Academic All-Big 12&nbsp;football Team Announced|publisher=Big 12 Conference|accessdate=2008-11-26|date=2008-11-25}}</ref>\\n|-\\n|2008\\n|AFCA Coaches\\' [[2008 College Football All-America Team|All-American]]\\n|Selected\\n|<ref name=\"afca.com\"/>\\n|-\\n|2008\\n|[[National Football Foundation]] National Scholar-Athlete\\n|Selected\\n|<ref>{{cite web|url=http://www.footballfoundation.org/nff/biography/943/graham-harrell|title=NFF Scholar-Athlete Bio|publisher=National Football Foundation|accessdate=2011-11-30|deadurl=yes|archiveurl=https://web.archive.org/web/20120419221927/http://www.footballfoundation.org/nff/biography/943/graham-harrell|archivedate=2012-04-19|df=}}</ref>\\n|-\\n|2008\\n|[[Johnny Unitas Golden Arm Award]]\\n|Winner\\n|<ref>{{cite web|url=http://texastech.cstv.com/sports/m-footbl/spec-rel/120808aab.html|title=Graham Harrell Wins Johnny Unitas Golden Arm Award|accessdate=2008-12-09|publisher=Official Texas Tech Athletic Site|date=2008-12-08}}</ref><ref>{{cite web|url=http://www.goldenarmfoundation.com/news/2008-12-11-golden-arm-winner.pdf|title=Harrell 2008 Johny Unitas Golden Arm Award|format=PDF}}</ref>\\n|-\\n|2008\\n|[[Heisman Trophy]]\\n|Candidate\\n|Finished fourth<ref>{{cite news|url=http://www.courant.com/services/newspaper/printedition/sports/hc-heisman1214.artdec14,0,304848.story|title=Sooners\\' Bradford Wins Heisman Trophy}}</ref>\\n|-\\n|2008\\n|All-Big 12\\n|Selected for honorable-mention\\n|-\\n|2008\\n|[[Sporting News College Football Player of the Year|The Sporting News 2008 National Player of the Year]]\\n|Selected\\n|Co-national player of the year with [[Sam Bradford]] and [[Colt McCoy]]<ref>{{cite news|title=Texas Tech QB Harrell named co-national player of the year |work=The Dallas Morning News |date=2008-12-17 |url=http://collegesportsblog.dallasnews.com/archives/2008/12/texas-tech-qb-harrell-named-co-national.html |accessdate=2008-12-18 |deadurl=yes |archiveurl=https://web.archive.org/web/20100118050035/http://collegesportsblog.dallasnews.com/archives/2008/12/texas-tech-qb-harrell-named-co-national.html |archivedate=2010-01-18 |df= }}</ref>\\n|-\\n|2008\\n|[[AT&T ESPN All-America Player|AT&T All-America Player of the Year]]\\n|Winner\\n|Voted on by fans<ref>{{cite web|url=http://texastech.cstv.com/sports/m-footbl/spec-rel/010909aaa.html|title=Harrell Selected AT&T All-America Player of the Year|date=2009-01-09|publisher=Texas Tech Official Athletic Site|accessdate=2009-01-09}}</ref>\\n|}\\n\\n==Professional career==\\n\\n===Pre-draft===\\nFollowing his senior season at Texas Tech, Harrell entered the [[2009 NFL Draft]] but went undrafted to the surprise of many.<ref>{{cite web |url=http://www.redraiders.com/2009/04/26/chargers-draft-vasquez-cowboys-take-williams/ |title=Chargers land Vasquez, Cowboys take Williams|last=Williams|first=Don|date=2009-04-26|work=[[Lubbock Avalanche-Journal]]|accessdate=2009-04-27}}</ref>  He participated with the [[Cleveland Browns]] in their rookie camp the first weekend in May 2009 but was not signed despite coach [[Eric Mangini]] giving Harrell praise.<ref>{{cite web|url=http://www.cleveland.com/browns/index.ssf/2009/05/browns_insider_no_deal_for_qb.html|title=Browns Insider: No deal for QB Harrell, but coaching staff was positive, says agent|last=Cabot|first=Mary Kay|date=2009-05-04|work=[[The Plain Dealer]]|accessdate=2009-05-13}}</ref> UFL Access reported that Harrell would work out in front of [[United Football League (2009)|United Football League]] representatives in [[Las Vegas, Nevada|Las Vegas]].<ref>{{cite web|url=http://uflaccess.com/uflaccess/rex-grossman-graham-harrell-to-the-ufl/|title=Rex Grossman, Graham Harrell to the UFL|deadurl=yes|archiveurl=https://web.archive.org/web/20090523162812/http://uflaccess.com/uflaccess/rex-grossman-graham-harrell-to-the-ufl|archivedate=2009-05-23|df=}}</ref>\\n\\n===Saskatchewan Roughriders===\\nOn July 20, 2009, Harrell signed a two-year plus an option contract with the [[Saskatchewan Roughriders]] of the [[Canadian Football League]], joining former Texas Tech teammate [[Eric Morris (coach)|Eric Morris]] who had signed months earlier.<ref>{{cite news|url=http://www.riderville.com/article/riders-sign-quarterback-graham-harrell|title=Riders sign Quarterback Graham Harrell|date=2009-07-20|publisher=Saskatchewan Roughriders Football Club|accessdate=2009-07-20}}</ref> After a brief stay in the CFL, Harrell requested to be released from his CFL contract to pursue his NFL options, and was released by the Roughriders on April 22, 2010.<ref>{{cite news|url=https://www.cfl.ca/article/riders-release-qb-harrell-wr-morris|title=Riders release QB Harrell, WR Morris|date=April 22, 2010|publisher=cfl.ca|accessdate=22 April 2010}}</ref><ref>http://www.leaderpost.com/sports/Roughrider+Harrell+released+Green/8831987/story.html{{dead link|date=March 2017 |bot=InternetArchiveBot |fix-attempted=yes }}</ref>\\n\\n===Green Bay Packers===\\nHarrell signed with the [[Green Bay Packers]] on May 19, 2010. He was released on September 4, but was re-signed to the [[practice squad]] the next day. On December 18, Harrell was signed to the active roster due to an injury to [[Aaron Rodgers]]. On September 3, 2011, the Packers released Harrell, but they re-signed him on September 4, 2011, to the practice squad.<ref>http://www.packers.com/news-and-events/article-1/Packers-sign-eight-players-to-practice-squad/4ab7dd20-7c56-462c-98aa-a51bb389ac9a</ref> On December 7, 2011, the Packers again signed Harrell to the active roster. After the departure of primary back-up [[Matt Flynn]], Harrell was promoted to the active roster full-time and was named Rodger\\'s primary back-up.\\nOn September 30, 2012, Graham played in his first game for Green Bay. Coming in for one snap in the red zone, Harrell took the snap to hand off to [[Cedric Benson]], but was tripped by his center, resulting in a fumbled hand off and a lost fumble.<ref>https://sports.yahoo.com/blogs/nfl-shutdown-corner/discount-double-vision-rodgers-gets-eye-poked-harrell-015259296--nfl.html</ref> Harrell appeared in four regular-season games, completing 2 of 4 passes for 20 yards.  He hosted a weekly sports talk show called the \"Witt Ford Red Zone with Graham Harrell\" every Monday during the 2012 season on 104.1 FM WRLU and archived at DoorCountyDailyNews.com.<ref>http://doorcountydailynews.com/sports/details.cfm?clientid=28&id=57469#.UMocv4PLRtk</ref>\\n\\nHarrell struggled in the pre-season and on August 24, 2013, USA Today reported that Green Bay would be releasing Harrell, as former [[Tennessee Titans]] QB [[Vince Young]] outplayed Harrell according to the Packers coaching staff in the pre-season.<ref>{{cite news |url=https://www.usatoday.com/story/sports/nfl/packers/2013/08/24/vince-young-to-become-backup-quarterback-graham-harrell-release/2695723/ | work=USA Today | first1=Tom | last1=Pelissero | title=Packers to cut Graham Harrell, making Vince Young No. 2 | date=2013-08-24}}</ref>\\n\\n===New York Jets===\\nHarrell was signed by the [[New York Jets]] on August 28, 2013. He was brought in after reserve quarterback [[Greg McElroy]] re-injured his knee. Harrell played for one series at the end of the game in relief of [[Matt Simms (American football)|Matt Simms]].<ref>{{cite web|title=QB Graham Harrell Added, C Dalton Freeman Released |url=http://www.newyorkjets.com/news/article-insidewitheafb/QB-Graham-Harrell-Added-C-Dalton-Freeman-Released/bcc31b44-591c-413c-98a2-a68e61eb1cbf |author=Allen, Eric |date=28 August 2013 |publisher=New York Jets |archiveurl=https://www.webcitation.org/6JDzXEa9l?url=http://www.newyorkjets.com/news/article-insidewitheafb/QB-Graham-Harrell-Added-C-Dalton-Freeman-Released/bcc31b44-591c-413c-98a2-a68e61eb1cbf |archivedate=29 August 2013 |accessdate=28 August 2013 |deadurl=yes |df= }}</ref> He was released on September 2, 2013 after the Jets signed [[Brady Quinn]].<ref>{{cite web|title=Jets QB Rotation: Brady Quinn In, Harrell Out |url=http://www.newyorkjets.com/news/article-randylangeblogfb/Jets-QB-Rotation-Brady-Quinn-In-Harrell-Out/bd6f0611-97f1-40e2-8812-e4c3d6fd0da8 |author=Lange, Randy |date=2 September 2013 |publisher=New York Jets |archiveurl=https://www.webcitation.org/6JLHYAY4N?url=http://www.newyorkjets.com/news/article-randylangeblogfb/Jets-QB-Rotation-Brady-Quinn-In-Harrell-Out/bd6f0611-97f1-40e2-8812-e4c3d6fd0da8 |archivedate=2 September 2013 |accessdate=2 September 2013 |deadurl=yes |df= }}</ref>\\n\\n==Coaching career==\\nHarrell first started coaching by accepting a quality control position at Oklahoma State when [[Mike Gundy]] hired former Tech offensive coordinator [[Dana Holgorsen]] to run the Cowboy offense. Harrell helped tutor the OSU quarterbacks with the new Air Raid system that Gundy had hired Holgerson to run. Harrell left OSU to play football in Canada. After not playing in the NFL during the 2013 season, Harrell joined the coaching staff at [[Washington State Cougars football|Washington State]] in April 2014, re-uniting him with his college coach [[Mike Leach (American football coach)|Mike Leach]]. Harrell was given the position of offensive analyst.<ref>[http://collegesportsblog.dallasnews.com/2014/04/report-former-texas-tech-qb-graham-harrell-joins-mike-leachs-washington-state-staff.html/ Report: Former Texas Tech QB Graham Harrell will join [[Mike Leach (American football coach)|Mike Leach]]’s Washington State staff] {{webarchive|url=https://web.archive.org/web/20140416160235/http://collegesportsblog.dallasnews.com/2014/04/report-former-texas-tech-qb-graham-harrell-joins-mike-leachs-washington-state-staff.html/ |date=2014-04-16 }}</ref> In February 2015, Harrell was named the football program\\'s outside receivers coach, replacing Dennis Simmons.<ref>[http://www.wsucougars.com/ViewArticle.dbml?DB_OEM_ID=30400&ATCLID=209886655/  Report: Graham Harrell Named Outside Receivers Coach] {{webarchive|url=https://web.archive.org/web/20150212212356/http://www.wsucougars.com/ViewArticle.dbml?DB_OEM_ID=30400&ATCLID=209886655%2F |date=2015-02-12 }}</ref> In December 2015, former Texas Tech running backs coach [[Seth Littrell]] was named head football coach at the [[University of North Texas]]. Harrell became one of Littrell\\'s first hires, as he was named offensive coordinator and quarterbacks coach at UNT. Despite being named OC at North Texas, Harrell said he would honor his contract with Leach and WSU and coach the Cougars in the [[Sun Bowl]].\\n\\n==Personal==\\nHarrell is the son of Sam and Kathy Harrell. His grandfather served as assistant coach to [[Gordon Wood (American football coach)|Gordon Wood]]. Harrell has an older brother, Zac, who was a receiver on Ennis High\\'s 2000 State Championship team, and is a graduate of the [[University of North Texas]] and coaches football on the high school level as he serves as [[Offensive Coordinator]] at Sweetwater High School in [[Sweetwater, Texas]]. Graham also has a younger brother, [[Clark Harrell]], who played a year at quarterback for the [[Tulsa Golden Hurricane football|Tulsa Golden Hurricane]]. Clark transferred to [[Abilene Christian University]] after his freshman season at Tulsa and graduated from ACU in 2011. Clark is now a defensive secondary coach at Sweetwater High School in [[Sweetwater, Texas]]\\n\\nSam Harrell, Graham\\'s father, was the highest paid high school coach in Texas as of the 2005-06 academic year.<ref>{{cite web|url=http://www.statesman.com/sports/content/sports/stories/highschool/08/27salary.html|title=In dollars, coaches beat teachers|date=August 27, 2006|work=[[Austin American-Statesman]]|page=A1|accessdate=2009-02-25|deadurl=yes|archiveurl=https://web.archive.org/web/20081203180507/http://www.statesman.com/sports/content/sports/stories/highschool/08/27salary.html|archivedate=December 3, 2008|df=}}</ref> He coached at [[Reagan County Independent School District|Reagan County]] (1990–1993) and [[Ennis Independent School District|Ennis]] (1994-\\'\\'2009\\'\\') before retiring from coaching duties in December 2010 due to health problems. Sam returned to the sidelines after over two years of aggressive treatment for [[Multiple Sclerosis]]  <ref>{{cite web|last=Harrell|first=Sam|title=Sam Harrell demonstrates his progress after receiving umbilical cord stem cells + fat stem cells for multiple sclerosis|url=http://www.cellmedicine.com/sam-harrell-demonstrates-his-progress-after-receiving-umbilical-cord-fat-stem-cells-for-multiple-sclerosis/|work=CellMedicine.com|accessdate=13 December 2013}}</ref>  and coaches in Brownwood under Bob Shipley, father of [[Jacksonville Jaguars]] and former Texas wideout [[Jordan Shipley]].<ref name=\"sam_health\">{{cite web|last=George|first=Brandon|title=Ennis ISD official release on football coach Sam Harrell retiring from coaching|url=http://highschoolsportsblog.dallasnews.com/archives/2010/12/ennis-isd-official-release-on-coach-sam.html|work=Dallas Morning News High School Sports Blog|accessdate=27 December 2010}}</ref> Sam currently is the offensive coordinator for the Southwestern Assembly of God University Lions in Waxahachie, Texas.\\n\\nHarrell has been married to Brittney Tomlinson of [[Tyler, Texas]] since March 2012.\\n\\n==See also==\\n{{Portal|American football|Biography|College football}}\\n* [[2006 Texas Tech Red Raiders football team]]\\n* [[2007 Texas Tech Red Raiders football team]]\\n* [[2008 Texas Tech Red Raiders football team]]\\n* [[List of NCAA Division I FBS quarterbacks with at least 10,000 career passing yards]]\\n* [[List of NCAA Division I FBS quarterbacks with at least 80 career passing touchdowns]]\\n* [[List of NCAA major college football yearly passing leaders]]\\n* [[List of NCAA major college football yearly total offense leaders]]\\n\\n==References==\\n{{reflist|colwidth=30em}}\\n\\n==External links==\\n{{Commons category|Graham Harrell}}\\n* [http://www.packers.com/team/roster/Graham-Harrell/5f0588c8-a6d2-4132-a4b5-2bf0583aaad6 Green Bay Packers bio]\\n* [https://web.archive.org/web/20070402035132/http://texastech.cstv.com/sports/m-footbl/mtt/harrell_graham00.html Texas Tech Red Raiders bio]\\n\\n{{Texas Tech Red Raiders quarterback navbox}}\\n{{Super Bowl XLV}}\\n{{Sporting News College Football Player of the Year}}\\n{{Johnny Unitas Award}}\\n\\n{{DEFAULTSORT:Harrell, Graham}}\\n[[Category:1985 births]]\\n[[Category:Living people]]\\n[[Category:American members of the Churches of Christ]]\\n[[Category:People from Brownwood, Texas]]\\n[[Category:People from Ennis, Texas]]\\n[[Category:Players of American football from Texas]]\\n[[Category:Canadian football quarterbacks]]\\n[[Category:American football quarterbacks]]\\n[[Category:Texas Tech Red Raiders football players]]\\n[[Category:Saskatchewan Roughriders players]]\\n[[Category:Green Bay Packers players]]\\n[[Category:New York Jets players]]\\n[[Category:Washington State Cougars football coaches]]\\n[[Category:North Texas Mean Green football coaches]]\\n[[Category:All-American college football players]]\\n[[Category:Super Bowl champions]]',\n",
       "      'contentformat': 'text/x-wiki',\n",
       "      'contentmodel': 'wikitext'}],\n",
       "    'title': 'Graham Harrell'},\n",
       "   '156002': {'ns': 0,\n",
       "    'pageid': 156002,\n",
       "    'revisions': [{'*': '{{about|the band|the band\\'s eponymous album|3 Doors Down (album)}}\\n{{Infobox musical artist\\n| name = 3 Doors Down\\n| image = 3 Doors Down live @ Laredo Energy Arena in Laredo, Texas.JPG\\n| caption = 3 Doors Down live in Laredo, Texas\\n| image_size = \\n| landscape = \\n| background = group_or_band\\n| origin = [[Escatawpa, Mississippi]], U.S.\\n| genre = {{flatlist|\\n* [[Post-grunge]]<ref name=allmusic-bio/><ref>{{cite web |author= Steininger, Adam |url= http://www.laweekly.com/music/the-10-worst-post-grunge-bands-4169278 |title= The 10 Worst Post-Grunge Bands |work= [[LA Weekly]] |date= August 23, 2013 |accessdate = July 1, 2015 }}</ref>\\n* [[hard rock]]<ref name=allmusic-bio>{{cite web |author= Proefrock, Stacia |url= http://www.allmusic.com/artist/3-doors-down-mn0000923323/biography |title= 3 Doors Down |work= [[AllMusic]] |accessdate= July 1, 2015}}</ref>\\n* [[alternative rock]]<ref name=usatoday>{{cite web |author= Ryan, Patrick |url= https://www.usatoday.com/story/life/music/2013/07/19/3-doors-down-to-play-us-scouts-jamboree/2569377/ |title = 3 Doors Down to play U.S. Scouts Jamboree |work= [[USA Today]] |date= July 19, 2013 |accessdate= July 1, 2015}}</ref>\\n}}\\n| years_active = 1996–present \\n| label = {{flatlist|\\n* [[Republic Records|Republic]]\\n* [[Universal Republic Records|Universal Republic]]\\n}}\\n| associated_acts = {{flatlist|\\n* [[Puddle of Mudd]]\\n* [[Nickelback]]\\n* [[Shinedown]]\\n}}\\n| website = {{URL|3doorsdown.com}}\\n| current_members = \\n* [[Brad Arnold]]\\n* Chris Henderson\\n* Greg Upchurch\\n* Chet Roberts\\n* Justin Biltonen\\n| past_members = \\n* Matt Roberts\\n* Todd Harrell\\n* Richard Liles\\n* [[Daniel Adair]]\\n}}\\n\\'\\'\\'3 Doors Down\\'\\'\\' is an American [[Rock music|rock]] band from [[Escatawpa, Mississippi]], that formed in 1996. The band originally consisted of [[Brad Arnold]] (lead vocals, drums), Todd Harrell (bass guitar), and Matt Roberts (lead guitar) Chris Henderson (rhythm guitar). The band rose to international fame with their first single, \"[[Kryptonite (3 Doors Down song)|Kryptonite]]\", which placed in the top three on the [[Billboard Hot 100|\\'\\'Billboard\\'\\' Hot 100]] chart. The band then signed with [[Republic Records]] and released their debut album, \\'\\'[[The Better Life]]\\'\\', in 2000. The album was the 11th-best-selling album of the year and was certified [[RIAA certification|6x platinum]] in the United States. The group was later joined by drummer Richard Liles, who played during the tour for their first album.\\n\\nThe band\\'s second album, \\'\\'[[Away from the Sun]]\\'\\', (2002) continued the band\\'s success; it debuted at No.&nbsp;8 on the [[Billboard 200|\\'\\'Billboard\\'\\' 200]] chart, went multi-platinum in the U.S. like its predecessor, and spawned the hits \"[[When I\\'m Gone (3 Doors Down song)|When I\\'m Gone]]\" and \"[[Here Without You]]\". The band toured extensively for two years. [[Daniel Adair]] played drums on tour from 2002 to 2006. This configuration played nearly 1,000 shows across the world following the release of \\'\\'Away from the Sun\\'\\'. In 2005, Greg Upchurch ([[Puddle of Mudd]]) joined to play drums to replace Adair. 3 Doors Down released their third album, \\'\\'[[Seventeen Days]]\\'\\' in 2005. The album debuted at No.&nbsp;1 on the Billboard 200 chart and was certified platinum within one month of release.  Their fourth, self-titled album, \\'\\'[[3 Doors Down (album)|3 Doors Down]]\\'\\' (2008), also debuted at No.&nbsp;1 on the Billboard 200 chart. The band\\'s fifth studio album, \\'\\'[[Time of My Life (3 Doors Down album)|Time of My Life]]\\'\\' (2011) debuted at No.&nbsp;3 on the charts.\\n\\nOriginal guitarist Matt Roberts departed in 2012, owing to health issues. He was replaced by Chet Roberts, who was formerly Henderson\\'s guitar tech. Harrell was fired from the band in 2013 after being charged with [[vehicular homicide]], and was replaced by bassist Justin Biltonen.<ref name=ug>{{cite web|title=New 3 Doors Down Material Coming in 2014, Guitarist Chris Henderson Confirms|url=http://www.ultimate-guitar.com/news/upcoming_releases/new_3_doors_down_material_coming_in_2014_guitarist_chris_henderson_confirms.html|work=Ultimate Guitar|date=January 23, 2014|accessdate=May 19, 2014}}</ref> Worldwide, 3 Doors Down has sold more than 20 million albums. The band has shared the stage with artists such as [[Daughtry (band)|Daughtry]], [[Pop Evil]], [[Red Sun Rising]], [[Black Stone Cherry]],<ref>{{cite web|url=http://3doorsdown.com/#/events |title=Archived copy |accessdate=2016-08-19 |deadurl=yes |archiveurl=https://web.archive.org/web/20160728081700/http://www.3doorsdown.com/ |archivedate=2016-07-28 |df= }}</ref> [[Megadeth]], [[Staind]], [[Nickelback]], [[Three Days Grace]], [[Oleander (band)|Oleander]], [[Alter Bridge]], [[Breaking Benjamin]], [[Seether]], [[Shinedown]], [[Hinder (band)|Hinder]], [[Mentors (band)|Mentors]], [[ZZ Top]], [[Bob Seger]], [[Lynyrd Skynyrd]], and [[Toby Keith]].\\n\\n==History==\\n\\n===Formative years: 1995–2004===\\nThe band originally consisted of Brad Arnold (vocals/drums), Todd Harrell (bass), and Matt Roberts (guitar). The band began to tour outside Escatawpa, and it was during a trip to [[Foley, Alabama]] that they came up with their official name. When the three men were walking through the town, they saw a building where some letters had fallen off its sign, and it read \"Doors Down\". Since at the time they consisted of three people, they added the \"3\" to create \"3 Doors Down\". The cover of their 2011 album \\'\\'[[Time of My Life (3 Doors Down album)|Time of My Life]]\\'\\' hints at the original number of band members (3) and current band members (5); the clock on the album cover reads 3:05.\\n\\nA couple of years after performing together, Todd Harrell asked rhythm guitarist Chris Henderson to join the band. They recorded a demo CD of their original songs at Lincoln Recording in [[Pascagoula, Mississippi]]. When the band gave the CD to local radio station [[WCPR-FM]] they started playing the [[extended play|EP]] version of \"[[Kryptonite (3 Doors Down song)|Kryptonite]]\", and it became the No.&nbsp;1 requested song on the station for over 15 weeks.<ref name=\"hitquarters.com\"/> The station\\'s program director sent the song to manager Phin Daly who in turn showed it to Bill McGathy, his employer at In De Goot Entertainment. They decided to fly the band into New York to perform a showcase at the [[CBGB]] music club. Daly told [[HitQuarters]]: \"Once they got on stage and started playing it was apparent the magic was in the music. So we moved to sign them.\"<ref name=\"hitquarters.com\">{{cite web|url=http://www.hitquarters.com/index.php3?page=intrview/opar/intrview_Phin_Daly_Interview.html |title=Interview with Phin Daly|publisher=[[HitQuarters]]|date=November 1, 2001|accessdate=February 25, 2011}}</ref> 3 Doors Down\\'s success on the radio also led to [[Republic Records]] signing the band.\\n\\n===Mainstream success: 1999–2004===\\n3 Doors Down\\'s first studio album, \\'\\'[[The Better Life]]\\'\\', was released on February 8, 2000 and went on to become the 11th best-selling album of the year, selling over three million copies. It has since been certified 6x platinum, thanks in large part to the international hit singles, \"Kryptonite\", \"[[Loser (3 Doors Down song)|Loser]]\", and \"[[Duck and Run]]\". A fourth single, \"[[Be Like That]]\" was re-recorded for the 2001 film \\'\\'[[American Pie 2]]\\'\\', with alternate lyrics for the first 3 lines. This version is known as \"The American Pie 2 Edit\". Whilst recording the album, Brad Arnold recorded both the vocal and drum parts. However, the band hired drummer Richard Liles for the tour in support of \\'\\'[[The Better Life]]\\'\\' so that Arnold could perform at the front of the stage. Liles left in late 2001.\\n\\nThe band\\'s second studio album, \\'\\'[[Away from the Sun]]\\'\\', was released on November 12, 2002 and went platinum within two months of release.<ref>Larkin, C. (July 4, 2006) \"3 Doors Down\". \\'\\'Encyclopedia of Popular Music\\'\\', 4th ed. Oxford University Press.</ref>  The album also produced two hit singles, \"When I\\'m Gone\" and \"Here Without You\". The album has sold four million copies worldwide, including well over three million in the U.S.<ref>{{cite web |title=3 Doors Down Biography |url=http://www.3doorsdown.com/bio.aspx |work=3doorsdown.com |accessdate=July 16, 2011 |archiveurl=https://web.archive.org/web/20090714101914/http://www.3doorsdown.com/bio.aspx |archivedate=July 14, 2009 |deadurl=yes |df= }}</ref><ref>{{cite web |url=http://www.billboard.com/charts-decade-end/billboard-200-albums?year=2009#/charts-decade-end/billboard-200-albums?year=2009&begin=101&order=position |title=Music Albums, Top 200 Albums & Music Album Charts |work=[[Billboard (magazine)|Billboard]] |date=December 31, 2009 |accessdate=October 1, 2011 |deadurl=yes |archiveurl=https://web.archive.org/web/20110903053729/http://www.billboard.com/charts-decade-end/billboard-200-albums?year=2009 |archivedate=September 3, 2011 }}</ref> Session drummer [[Josh Freese]] was hired to record drums for the album. [[Rush (band)|Rush]] guitarist [[Alex Lifeson]] produced and performed on three tracks for the record, \"Dangerous Game\", \"Dead Love\", and \"Wasted Me\", but only \"Dangerous Game\" would appear on the finished product. The band hired Canadian [[Daniel Adair]] to play drums for the \\'\\'Away From the Sun\\'\\' tour. He would go on to record the drums for the band\\'s next studio release, and was with the band aboard the [[USS George Washington (CVN-73)|USS \\'\\'George Washington\\'\\' (CVN-73)]] to film the music video \"[[When I\\'m Gone (3 Doors Down song)|When I\\'m Gone]]\".\\n\\nIn 2003, 3 Doors Down released a live EP entitled \\'\\'[[Another 700 Miles]]\\'\\' consisting of recordings from a live performance by the band in Chicago, Illinois. \\'\\'Another 700 Miles\\'\\' has since been certified Gold in the United States. In addition to featuring some of 3 Doors Down\\'s hit singles from their previous two albums, the EP also contains a version of the popular 1977 [[Lynyrd Skynyrd]] song \"[[That Smell]]\". The group toured with Nickelback in 2004.<ref>Waddel, R. (May 29th, 2004). Hopes high for 3 Doors Down/Nickelback. Billboard – The International Newsweekly of Music, Video and Home Entertainment, Volume 116, Issue 22.</ref>\\n\\nIn 2003, the band began hosting the annual \"3 Doors Down and Friends\" benefit concert, through the band\\'s own charity The Better Life Foundation. In 2006, this event was held at the Mobile Convention Center, with proceeds benefiting [[Hurricane Katrina]] survivors. As residents of Escatawpa, the members of the band saw the effects of Katrina\\'s devastation.<ref>{{cite news|last=Waddell |first=Ray |url=http://www.billboard.com/articles/news/56947/3-doors-down-plots-benefit-new-album |title=3 Doors Down Plots Benefit, New Album |work=Billboard |date=October 16, 2006 |accessdate=October 12, 2007 |deadurl=no |archivedate=July 4, 2013 |archiveurl=https://web.archive.org/web/20130704033736/http://www.billboard.com/articles/news/56947/3-doors-down-plots-benefit-new-album |df= }}</ref>\\n{{clear}}\\n\\n===Continued success: 2005–2010===\\n[[File:Crowd shot.jpg|thumb|right|3 Doors Down performing in 2008]]\\n\\nBy 2005, the band had sold 12 million albums.<ref>Losey, S. (June 2005). Daniel Adair: revolving door: making the exodus from 3 Doors Down to\\tNickelback. Modern Drummer, Volume 29, Issue 6.</ref> The band\\'s third studio album, 2005\\'s \\'\\'[[Seventeen Days]]\\'\\', has been certified platinum. Of the singles from it, \"[[Let Me Go (3 Doors Down song)|Let Me Go]]\" and \"[[Behind Those Eyes]]\" charted with the most success. \"Live for Today\", \"[[Landing in London]]\" (on which [[Bob Seger]] sang the second verse and provided back-up vocals), and \"Here by Me\" were also released as singles. During the \\'\\'Seventeen Days\\'\\' tour, the band appeared alongside southern rock band Lynyrd Skynyrd, as well as headlining many shows of their own.\\n\\nLater in 2005, the band released a live DVD entitled \\'\\'Away from the Sun: Live from Houston, Texas\\'\\'. The DVD was produced and directed by [[Academy Award]] nominated [[Alex Gibney]] and Doug Biro. It features songs from both \\'\\'[[The Better Life]]\\'\\' and \\'\\'[[Away from the Sun]]\\'\\', and even some early sketches of \"It\\'s Not Me\" and \"Father\\'s Son\", which were both eventually released on \\'\\'[[Seventeen Days]]\\'\\'.\\n\\n[[Greg Upchurch]], formerly of [[Puddle of Mudd]], replaced [[Daniel Adair]] in 2005, when Adair left to become drummer and contributing member of [[Nickelback]].<ref name=\"website\">{{cite web|url=http://www.totalrock.com/newsstory.php?id=EEpZluZlZpBUfEcNOsq= |title=3 Doors Down Grab Muddy Drummer |accessdate=October 12, 2007 |publisher=TotalRock |archivedate=October 16, 2007 |archiveurl=https://web.archive.org/web/20071016070053/http://totalrock.com/newsstory.php?id=EEpZluZlZpBUfEcNOsq%3D |deadurl=no |df= }}</ref>\\n\\n3 Doors Down released their [[3 Doors Down (album)|self-titled fourth album]] on May 20, 2008. It debuted at No.&nbsp;1 on the [[Billboard 200|\\'\\'Billboard\\'\\' 200]], selling 154,000 copies in its first week. It is the band\\'s second consecutive No.&nbsp;1 album on the chart after \\'\\'Seventeen Days\\'\\', as well their fourth album to reach the Top Ten.<ref name=\"billboard\">{{cite web|author=Katie Hasty |date=May 28, 2008 |url=http://www.billboard.com/articles/news/1045267/3-doors-down-cruises-to-no-1-on-album-chart |title=3 Doors Down Cruises To No.1 On Album Chart |accessdate=May 28, 2008 |archivedate=May 29, 2008 |archiveurl=https://web.archive.org/web/20080529025442/http://www.billboard.com/articles/news/1045267/3-doors-down-cruises-to-no-1-on-album-chart |deadurl=no |df= }}</ref> The album contains the hit singles \"[[It\\'s Not My Time]]\", \"[[Train (3 Doors Down song)|Train]]\", \"[[Let Me Be Myself]]\" and \"[[Citizen/Soldier]]\", a song written as a tribute to the [[National Guard of the United States|National Guard]]. In 2009, 3 Doors Down, along with The Soul Children of Chicago, released the song \"In the Presence of the Lord\" on the compilation album \\'\\'[[Oh Happy Day: An All-Star Music Celebration]]\\'\\'.<ref>{{cite news|url=https://www.reuters.com/article/2009/03/27/us-gospel-idUSTRE52Q6WQ20090327 |author=Deborah Evans Price |title=Jon Bon Jovi, Queen Latifah go gospel for \"Day\" |date=March 27, 2009 |agency=[[Reuters]] |accessdate=April 6, 2009 |archivedate=May 26, 2011 |archiveurl=https://web.archive.org/web/20110526173545/https://www.reuters.com/article/2009/03/27/us-gospel-idUSTRE52Q6WQ20090327 |deadurl=no |df= }}</ref>\\n\\nThe band recorded in 2009 a Christmas song called \"[[Where My Christmas Lives EP|Where My Christmas Lives]]\", which was the first Christmas song Brad Arnold had ever written.<ref>{{cite web|url=http://www.songfacts.com/detail.php?id=17953 |title=Where My Christmas Lives By 3 Doors Down Songfacts |date=October 28, 2009 |publisher=SongFacts |deadurl=no |archivedate=September 18, 2010 |archiveurl=https://web.archive.org/web/20100918183602/http://www.songfacts.com/detail.php?id=17953 |df= }}</ref> It was digitally released along with seven acoustic songs on December 8. Six of these acoustic tracks were from the previous self-titled album, and one was an acoustic version of \"Where my Christmas Lives\".\\n\\n===Line-up changes: 2011–2013===\\n[[File:USMC-110128-M-5623T-273.jpg|thumb|right|Todd Harrell, Brad Arnold and Matt Roberts performing in 2011]]\\n\\n3 Doors Down released their fifth studio album, \\'\\'[[Time of My Life (3 Doors Down album)|Time of My Life]]\\'\\', on July 19, 2011. The band had earlier released \"When You\\'re Young\" as the first single from the album on January 10, 2011. The single reached a position of 81 on the US [[Billboard Hot 100|\\'\\'Billboard\\'\\' Hot 100]]. A second single from the album, \"Every Time You Go\" was released to digital outlets on May 23, 2011.<ref>{{cite web|url=http://www.3doorsdown.com/profiles/blogs/every-time-you-go-available |title=\"Every Time You Go\" Available May 23! |date=January 10, 2011 |publisher=3 Doors Down Official Website |accessdate=May 22, 2011 |archivedate=May 26, 2011 |archiveurl=https://web.archive.org/web/20110526173545/http://www.3doorsdown.com/profiles/blogs/every-time-you-go-available |deadurl=yes |df= }}</ref><ref>{{cite web|url=http://www.music-chart.info/song/697018/Every-Time-You-Go|title=Every Time You Go by 3 Doors Down Chart Summary|date=March 28, 2011|publisher=music-chart.info|deadurl=yes|archiveurl=https://web.archive.org/web/20110719060331/http://www.music-chart.info/song/697018/Every-Time-You-Go|archivedate=July 19, 2011|df=}}</ref> The band embarked on a tour in July 2011 across the USA, Europe, and the United Kingdom in support of the album.<ref>{{cite web|url=http://www.songkick.com/artists/335962-3-doors-down |title=3 Doors Down Tour Dates 2011 |date=July 17, 2011 |publisher=SongKick |archivedate=October 31, 2012 |archiveurl=https://web.archive.org/web/20121031111733/http://www.songkick.com/artists/335962-3-doors-down |deadurl=no |df= }}</ref> The album debuted at No.&nbsp;3 on the Billboard 200, with 59,800 copies sold in its first week. Beginning in May 2012, the band embarked on a six-week-long \\'Gang of Outlaws Tour\\' with headliners [[ZZ Top]] and opener [[Gretchen Wilson]].<ref>{{cite news |url=http://www.zztop.com/news/67891 |title=Gang of Outlaws Tour Announced Starring ZZ Top... |date=March 26, 2012 |publisher=ZZ Top Official Website |accessdate=April 7, 2012 |archivedate=April 24, 2012 |archiveurl=https://web.archive.org/web/20120424094214/http://www.zztop.com/news/67891 |deadurl=yes |df= }}</ref> On May 23, 2012, Matt Roberts announced he was leaving the band to focus on his health.<ref>{{cite news |url=http://www.3doorsdown.com/news/matt-roberts-leaves-3-doors-down/ |title=Matt Roberts Leaves 3 Doors Down |date=May 23, 2012 |accessdate=May 23, 2012 |archivedate=May 25, 2012 |archiveurl=https://web.archive.org/web/20120525221158/http://www.3doorsdown.com/news/matt-roberts-leaves-3-doors-down/ |deadurl=yes |df= }}</ref> The \"Gang of Outlaws\" tour continued. On May 23, guitarist Chris Henderson announced on Twitter that his old guitar tech Chet Roberts would be taking over from Matt Roberts on lead guitar.\\n\\nAfter the \"Gang of Outlaws\" tour finished, the band said in an interview that they were entering the studio to record three or four new songs to put on their very first Greatest Hits album, which was released on November 19, 2012.<ref>{{cite web|url=http://loudwire.com/3-doors-down-greatest-hits-collection-three-new-songs/ |title=3 Doors Down to Unleash \\'Greatest Hits\\' Collection with Three New Songs |website=[[Loudwire]] |author=Chad Childers |date=October 5, 2012 |accessdate=October 6, 2012 |deadurl=no |archivedate=November 29, 2012 |archiveurl=https://web.archive.org/web/20121129101530/http://loudwire.com/3-doors-down-greatest-hits-collection-three-new-songs/ |df= }}</ref> During the tail end of the Gang of Outlaws tour, they debuted a new song \"One Light\" which was included on the band\\'s \\'\\'[[The Greatest Hits (3 Doors Down album)|The Greatest Hits]]\\'\\'. Guitarist Chris Henderson announced on Twitter they would be back in the studio a few weeks after the tour had ended. In late 2012, the band appeared at several smaller shows including one in Huntington, NY.<ref>{{cite web |url=http://www.gopconvention2012.com/wp-content/uploads/2012/08/Temp-Order-of-Business1.pdf |title=2012 Republican National Convention, Order of Business |date=August 2012 |format=PDF |accessdate=August 29, 2012 |archivedate=August 29, 2012 |archiveurl=https://web.archive.org/web/20120829214211/http://www.gopconvention2012.com/wp-content/uploads/2012/08/Temp-Order-of-Business1.pdf |deadurl=yes |df= }}</ref> The band performed at Download Festival 2013 at the Zippo Encore Stage on the Friday of the three-day festival. From the tailend of 2012 through to March 2013, 3 Doors Down went on a joint headlining tour with US rock band [[Daughtry (band)|Daughtry]] to promote Daughtry\\'s 3rd studio album release. The cover of \"In the Air Tonight\" was captured and uploaded to Daughtry\\'s official YouTube channel. The band also played the Dubai Jazz Festival in February 2013.\\n\\nOn April 20, 2013, bassist Todd Harrell was charged with [[vehicular homicide]] for his actions the night before in Nashville, Tennessee. He was reportedly driving on [[I-40]] at a high speed while under the influence of prescription medication when he caused an accident that killed 47-year-old Paul Howard Shoulders, Jr.  The judge in the trial granted the request by Harrell\\'s lawyers to have Harrell placed on house arrest while awaiting trial.  The judge granted the defense request, but harshly criticized the musician\\'s doctor in the courtroom, accusing the physician of prescribing Harrell far too many pain pills.  The judge stated that Harrell \"got 360 Oxycodone and 60 Oxycontin pills from his doctor in less than 30 days, which is well outside the amount that is usually prescribed in the due course of medical treatment.\"  Harrell was also charged with bringing a controlled substance into a correctional detention facility, after it was discovered during the booking process at Nashville\\'s Metro Jail that Harrell had a plastic bag hidden in his sock that contained eight [[Xanax]] pills, twenty four [[Oxycodone]] pills, and four [[Oxymorphone]] pills.  Harrell\\'s court and trial dates have been repeatedly postponed by Harrell\\'s attorneys for various reasons.  Harrell\\'s original court dates of May 28 and 29, 2014 for the vehicular homicide charge were postponed and the court date for his previous DUI from 2012 was postponed since Harrell had voluntarily gone into rehab at an undisclosed location and remained there on the date set for the charge to go to court.  In May 2014 the trial was moved to July 23, 2014.  The trial was again postponed by the judge at the request of Harrell\\'s attorneys, pending a status hearing in September 2014.  A status hearing took place on September 19, 2014 for Harrell\\'s vehicular homicide charge, in which the judge agreed to postpone the trial again and allow Harrell to remain on house arrest pending his trial.  As of January 2015, no trial date for the vehicular homicide charge had been set due to the multiple postponement requests by Harrell\\'s attorneys, reportedly due to the fact that Harrell has been in rehab for treatment for addictions to alcohol and prescription pain medication. In December 2015, Harrell was sentenced to two years imprisonment<ref>{{cite web|url=http://www.wsmv.com/story/30789363/former-3-doors-down-bassist-sentenced-in-vehicular-homicide-case|title=Former 3 Doors Down bassist sentenced in vehicular homicide case|date=December 18, 2015|author=Sanders, Forrest|publisher=[[WSMV-TV]]}}</ref> followed by six years of probation. \\n\\n3 Doors Down later announced that the four scheduled shows in the U.S. for April and May had been cancelled out of respect for Shoulders and his family. The European tour with [[Prime Circle]] and the summer tour dates with Daughtry, which had been announced the day after the incident in Nashville, remained intact. On May 24, a week before the start on the European tour, Justin Biltonen was announced as the band\\'s new bassist.  The tour, starting in Moscow, Russia began on May 31, 2013. On July 20, 2013, they played live at the [[2013 National Scout Jamboree]] at the [[Summit Bechtel Reserve]].\\n\\n===\\'\\'Us and the Night\\'\\' and death of Matt Roberts: 2014–present===\\nIn January, Chris Henderson reported to the \\'\\'[[Phoenix New Times]]\\'\\' that their new album would be released sometime in 2014.<ref name=ug/> From the tail end of 2013 into 2014, the band embarked on an acoustic tour entitled \"Songs from the Basement\" and toured around the United States. In February 2014, Todd Harrell was arrested in Mississippi once again for a DUI. Afterward, the band released a statement that Harrell was permanently out of the band, and that they would continue with Justin Biltonen as his replacement. In June, Chris Henderson announced that the new album would be titled \\'\\'[[Us and the Night]]\\'\\'. It was originally set to be released between September and November 2015.<ref>{{cite web|author= |url=http://loudwire.com/3-doors-down-chris-henderson-reveals-us-and-the-night-album-title/ |title=3 Doors Down Reveal \\'Us and the Night\\' Album Title |website=Loudwire.com |date= |accessdate=2016-01-12}}</ref> In January 2016, the album\\'s release date was finally revealed to be March 11, 2016.<ref>{{cite web|url=http://loudwire.com/3-doors-down-reveal-us-and-the-night-album-release-date-artwork|title=3 Doors Down Reveal \\'Us and the Night\\' Album Release Date + Artwork|website=[[Loudwire]]|author=Chad Childers|date=January 7, 2016|accessdate=January 7, 2016}}</ref>\\n\\nFormer guitarist Matt Roberts died on August 20, 2016 at the age of 38 from a prescription drug overdose.<ref>{{cite web|url=http://www.tmz.com/2016/08/20/3-doors-down-guitarist-dead-overdose-matt-roberts/|title=\\'3 Doors Down\\' Ex-Guitarist Dead at 38|publisher=[[TMZ]]|date=August 20, 2016}}</ref>\\n\\n3 Doors Down are currently on the rock and roll express tour for the summer with Collective Soul.\\n\\n==Other appearances==\\nOn February 9, 2010, the band released a song called \"[[Shine (3 Doors Down song)|Shine]]\", through digital media such as [[iTunes]], which was used as a promotion for the [[2010 Winter Olympics]] and is available through digital outlets.<ref>{{cite web|url=http://tunelab.com/2010/01/28/3-doors-down-to-release-new-single |title=3 Doors Down To Release New Single |date=January 28, 2010 |publisher=TuneLab |accessdate=July 16, 2011 |deadurl=no |archivedate=January 26, 2011 |archiveurl=https://web.archive.org/web/20110126200929/http://tunelab.com/2010/01/28/3-doors-down-to-release-new-single |df= }}</ref> Billboard listed 3 Doors Down as the No.&nbsp;30 band in the decade from 2000-2010.<ref>{{cite news|url=http://www.billboard.com/charts-decade-end/artists-of-the-decade?year=2009#/charts-decade-end/artists-of-the-decade?year=2009&begin=21&order=position |title=Artists of the Decade Music Chart |accessdate=July 23, 2012 |archiveurl=https://web.archive.org/web/20101211143220/http://www.billboard.com/charts-decade-end/artists-of-the-decade?year=2009 |archivedate=December 11, 2010 |deadurl=no |df= }}</ref>\\n\\nOn January 30, 2011, 3 Doors Down played during the 1st period intermission of the 2011 [[NHL All-Star Game]] in Raleigh, North Carolina. They played two songs: \"[[When You\\'re Young (3 Doors Down)|When You\\'re Young]]\" followed by \"Kryptonite\". The band also held a free concert as part of the weekend festivities on January 28, 2011 in downtown Raleigh.\\n\\nOn June 28–29, 2014, 3 Doors Down played both days at Kadena Air Base, Okinawa, Japan. They played all of their greatest hits, and only two new songs. This was at the Americafest celebration.<ref>{{cite web |author=Hecker, James |title=AmericaFest |url=http://www.kadena.af.mil/americafest2014.asp |accessdate=June 30, 2014 |deadurl=yes |archivedate=July 14, 2014 |archiveurl=https://web.archive.org/web/20140714205409/http://www.kadena.af.mil/americafest2014.asp |df= }}</ref>\\n\\n3 Doors Down performed at the [[Donald Trump inauguration|presidential inauguration concert]] of U.S. [[President-elect]] [[Donald Trump]] on January 20, 2017.<ref>{{cite web |url=http://www.cnn.com/2017/01/13/entertainment/inauguration-concert-lineup-toby-keith-3-doors-down-donald-trump/ |title=Toby Keith, 3 Doors Down among acts announced for Trump inauguration concert |first=Chloe |last= Melas |date=January 13, 2017 |publisher=CNN |accessdate=January 13, 2017 |archive-url=https://web.archive.org/web/20170113195522/http://www.cnn.com/2017/01/13/entertainment/inauguration-concert-lineup-toby-keith-3-doors-down-donald-trump/ |archive-date=January 13, 2017 |dead-url=no}}</ref> The band received criticism and ridicule for playing at the event.<ref>{{cite web|url=http://europe.newsweek.com/3-doors-down-donald-trump-inauguration-performers-542751?rm=eu |archiveurl=https://archive.is/20170307224212/http://europe.newsweek.com/3-doors-down-donald-trump-inauguration-performers-542751?rm=eu |archivedate=March 7, 2017 |title=3 Doors Down Fans on How They Feel About the Band Playing Trump\\'s Inauguration |last=Schonfield |first=Zach |date=January 14, 2017 |work=[[Newsweek]] |access-date=14 February 2017 |deadurl=yes }}</ref><ref name=\"Inauguration\">{{cite web|title=3 Doors Down Ignores Criticism For Playing Trump Inauguration |author=WKRG Staff |date=January 19, 2017 |url=http://wkrg.com/2017/01/19/3-doors-down-ignores-criticism-for-playing-trump-inauguration/?shared=email&msg=fail |archiveurl=https://archive.is/20170307224346/http://wkrg.com/2017/01/19/3-doors-down-ignores-criticism-for-playing-trump-inauguration/?shared=email&msg=fail |archivedate=March 7, 2017 |publisher=[[WKRG-TV]] |accessdate=March 7, 2017 |deadurl=yes }}</ref><ref>{{cite web|url=https://www.usatoday.com/story/life/nation-now/2017/01/18/3-doors-down-trump-inauguration/96744996/ |archiveurl=https://archive.is/20170125053140/http://www.usatoday.com/story/life/nation-now/2017/01/18/3-doors-down-trump-inauguration/96744996/ |archivedate=January 25, 2017 |title=3 Doors Down not shying from Trump inauguration |last=Threadgill |first=Jacob |date=January 18, 2007 |work=[[USA Today]] |access-date=March 7, 2017 |deadurl=yes }}</ref><ref>{{cite web|url=http://www.vulture.com/2017/01/3-doors-down-belongs-at-trumps-inauguration.html |archiveurl=https://archive.is/20170307223949/http://www.vulture.com/2017/01/3-doors-down-belongs-at-trumps-inauguration.html |archivedate=March 7, 2017 |title=3 Doors Down Is the Perfect Band to Play Trump\\'s Inauguration |last=Guan |first=Frank |date=January 19, 2017 |work=[[New York (magazine)|Vulture]] |access-date=March 7, 2017 |deadurl=yes }}</ref> In the week following the performance the band\\'s \\'\\'[[The Greatest Hits (3 Doors Down album)|The Greatest Hits]]\\'\\' album reentered the Billboard 200 at a new peak of No. 94; the album had debuted and peaked at No. 100 in 2012 and had been off the chart since April 2016.<ref>{{cite web |url=http://www.billboard.com/articles/columns/chart-beat/7669825/billboard-200-chart-moves-3-doors-down-toby-keith-trump |title=Billboard 200 Chart Moves: 3 Doors Down & Toby Keith Return After Trump Inauguration Concert |first=Keith |last= Caulfield |date=January 26, 2017 |publisher=Billboard |accessdate=March 11, 2017}}</ref>\\n\\n==The Better Life Foundation==\\n[[File:betterlife.jpg|thumb|left|upright=0.8|The Better Life Foundation logo]]\\n\\n3 Doors Down started The Better Life Foundation (TBLF) in 2003, with a goal in mind to give as many children as possible a better life. Since its inception TBLF has supported numerous charities across the USA, including the Center for the Prevention of Child Abuse, and the Habitat for Humanity,<ref>{{cite web|author= |url=http://loudwire.com/rock-related-charities/ |title=10 Great Rock-Related Charities To Support |website=Loudwire.com |date= |accessdate=2016-01-12}}</ref> as well as providing aid and assistance to the Gulf Coast region of Mississippi during [[Hurricane Katrina]].  In 2006, Brad Arnold stated that approximately $900,000 had been raised.<ref>Waddel, R. (November 11th, 2006). UpFront on the road: after the storm – 3 Doors Down members help revive the gulf concert scene. Billboard – The International Newsweekly of Music, Video and\\tHome Entertainment, Volume 118, Issue 47.</ref>\\n\\nWhen the Mississippi town of [[Waveland, Mississippi|Waveland]] took an especially hard hit from Hurricane Katrina, the charity was able to purchase three police cars and a fire truck to help with rescue efforts. Also, in connection with Wal-Mart, they were able to supply the town with three semi-trucks full of rescue supplies. There was also extensive support from TBLF in providing funding for rebuilding efforts in the town.\\n\\n3 Doors Down and The Better Life Foundation host a yearly show to raise money for the charity. Beginning in 2010, the show is performed at Horseshoe Hotel and Casino, in Tunica, Mississippi.  Prior to 2010, the show was performed at the Hard Rock Hotel and Casino in Biloxi, Mississippi. In addition to a concert from 3 Doors Down and friends, there is also an auction, which includes numerous items from musical friends, sports icons, and other various supporters of the band and the charity. There is an average of sixty items auctioned off yearly, and proceeds are given to TBLF.\\n \\nPast performers at the show include [[Lynyrd Skynyrd]], [[Shinedown]], [[Alter Bridge]], [[Staind]], [[Hinder]], [[Switchfoot]], [[Tracy Lawrence]], [[Sara Evans]], and others. Past auction items include a [[Paul Stanley]] guitar played on the [[Kiss (band)|KISS]] Farewell Tour, a total of four Roger Bourget motorcycles, access to the [[Dale Jr.]] racing suite, NASCAR artwork by Brad Daley, numerous signed guitars and sports memorabilia.<ref>{{cite web |url=http://www.3doorsdown.com/profiles/blogs/the-better-life-foundation-7th |title=The Better Life Foundation |date=August 23, 2010 |accessdate=March 31, 2011 |archivedate=November 6, 2010 |archiveurl=https://web.archive.org/web/20101106030101/http://www.3doorsdown.com/profiles/blogs/the-better-life-foundation-7th |deadurl=yes |df= }}</ref>\\n\\n==Band members==\\n{{col-begin}}\\n{{col-2}}\\n===Current members===\\n* [[Brad Arnold]] – [[Lead vocalist|lead vocals]] <small>(1996–present)</small>, drums <small>(1996–2000)</small>\\n* Chet Roberts – [[lead guitar]], [[Backing vocalist|backing vocals]] <small>(2012–present)</small>\\n* Chris Henderson – [[rhythm guitar]], backing vocals <small>(1998–present)</small>\\n* Justin Biltonen – [[bass guitar]] <small>(2013–present)</small>\\n* Greg Upchurch – [[Drum kit|drums]] <small>(2005–present)</small>\\n\\n===Former members===\\n* Matt Roberts – lead guitar, backing vocals <small>(1996–2012; died 2016)</small>\\n* Todd Harrell – bass guitar <small>(1996–2013)</small>\\n* Richard Liles – drums <small>(2000–2002)</small>\\n* [[Daniel Adair]] – drums, backing vocals <small>(2002–2005)</small>\\n{{col-end}}\\n\\n===Timeline===\\n{{#tag:timeline|\\nImageSize = width:900 height:auto barincrement:20\\nPlotArea = left:100 bottom:100 top:10 right:20\\nAlignbars = justify\\nDateFormat = dd/mm/yyyy\\nPeriod = from:05/02/1996 till:01/06/2018\\nTimeAxis = orientation:horizontal format:yyyy\\nLegend = orientation:vertical position:bottom columns:2\\nScaleMajor = increment:2 start:1997\\nScaleMinor = increment:1 start:1998\\n\\nColors =\\n id:Lvocals value:red         legend:Lead_vocals\\n id:Bvocals value:pink        legend:Backing_vocals\\n id:LGuitar value:teal        legend:Lead_guitar\\n id:RGuitar value:brightgreen legend:Rhythm_guitar\\n id:bass    value:blue        legend:Bass_guitar\\n id:drums   value:orange      legend:Drums\\n id:studio  value:black       legend:Studio_Albums\\n\\nBarData =\\n bar:Brad text:\"Brad Arnold\"\\n bar:Matt text:\"Matt Roberts\"\\n bar:Chet text:\" Chet Roberts\"\\n bar:Chris text:\"Chris Henderson\"\\n bar:Todd text:\"Todd Harrell\"\\n bar:Justin text:\"Justin Biltonen\"\\n bar:Richard text:\"Richard Liles\"\\n bar:Daniel text:\"Daniel Adair\"\\n bar:Greg text:\"Greg Upchurch\"\\n\\nPlotData=\\n width:11\\n bar:Brad    from:start      till:end        color:Lvocals\\n bar:Brad    from:start      till:10/02/2000 color:drums width:3\\n bar:Matt    from:start      till:23/05/2012 color:Lguitar\\n bar:Matt    from:start      till:01/01/1998 color:Rguitar width:7\\n bar:Matt    from:start      till:23/05/2012 color:Bvocals width:3\\n bar:Chet    from:23/05/2012 till:end        color:Lguitar\\n bar:Chet    from:23/05/2012 till:end        color:Bvocals width:3\\n bar:Chris   from:01/01/1998 till:end        color:Rguitar\\n bar:Chris   from:01/01/1998 till:end        color:Bvocals width:3\\n bar:Todd    from:start      till:24/05/2013 color:bass\\n bar:Justin  from:24/05/2013 till:end        color:bass\\n bar:Richard from:02/03/2000 till:02/12/2002 color:drums\\n bar:Daniel  from:02/12/2002 till:05/05/2005 color:drums\\n bar:Daniel  from:02/12/2002 till:05/05/2005 color:Bvocals width:3\\n bar:Greg    from:05/05/2005 till:end        color:drums\\n\\nLineData =\\n layer:back color:studio\\n at:08/02/2000\\n at:12/11/2002\\n at:08/02/2005\\n at:20/05/2008\\n at:21/07/2011\\n at:11/03/2016\\n}}\\n\\n== Discography ==\\n{{Main|3 Doors Down discography}}\\n\\n\\'\\'\\'Studio albums\\'\\'\\'<!-- THE LIST BELOW IS ONLY STUDIO ALBUMS. NOT FOR COMPILATION/GREATEST HITS RELEASES, ETC. -->\\n*\\'\\'[[The Better Life]]\\'\\' (2000)\\n*\\'\\'[[Away from the Sun]]\\'\\' (2002)\\n*\\'\\'[[Seventeen Days]]\\'\\' (2005)\\n*\\'\\'[[3 Doors Down (album)|3 Doors Down]]\\'\\' (2008)\\n*\\'\\'[[Time of My Life (3 Doors Down album)|Time of My Life]]\\'\\' (2011)\\n*\\'\\'[[Us and the Night]]\\'\\' (2016)\\n\\n==References==\\n{{Reflist|30em}}\\n\\n==External links==\\n{{Commons category|3 Doors Down}}\\n*{{Official website|http://www.3doorsdown.com}}\\n*[http://www.thebetterlifefoundation.org The Better Life Foundation]\\n\\n{{3 Doors Down}}\\n\\n{{Authority control}}\\n\\n{{DEFAULTSORT:3 Doors Down}}\\n[[Category:Articles which contain graphical timelines]]\\n[[Category:Alternative rock groups from Mississippi]]\\n[[Category:American hard rock musical groups]]\\n[[Category:American post-grunge musical groups]]\\n[[Category:Musical groups established in 1996]]\\n[[Category:Musical quintets]]\\n[[Category:Republic Records artists]]\\n[[Category:3 Doors Down| ]]',\n",
       "      'contentformat': 'text/x-wiki',\n",
       "      'contentmodel': 'wikitext'}],\n",
       "    'title': '3 Doors Down'},\n",
       "   '36494510': {'ns': 0,\n",
       "    'pageid': 36494510,\n",
       "    'revisions': [{'*': '{{for|the type of radio station|border blaster}}\\n\\'\\'\\'The Border Blasters\\'\\'\\' are a [[Texas]]-based roots group composed of primary band members Todd Jagger and Jimmy Ray Harrell.  The band calls their sound \"Cowboy Swing & Hillbilly Blues\" with Jagger on [[mandolin]], guitar & vocals; and Harrell on guitar, piano, accordion & vocals.  They are often joined by other musicians.  The Border Blasters are noted for their easy-going on-stage camaraderie coupled with tight harmonies and raw, rootsy musicianship.  \\n\\nThe band takes their name from the high-powered radio stations along the US/Mexico border that broadcast an eclectic mix of country, folk, blues, gospel and quirky advertisements around the world beginning in the early 1930s through the mid-1960s.\\n\\n== History and discography ==\\n\\nThe group started in 1976 playing their first gig at [[Gruene Hall]], and played consistently in and around [[Austin, Texas]] at popular venues such as the [[Armadillo World Headquarters]], The Split Rail, The Broken Spoke, The Skyline Club, Saxon Pub, including a two-year standing show at Raven\\'s Garage on [[Sixth Street (Austin, Texas)]].  In 1988 The Border Blasters released a 16-song cassette tape titled \"It\\'s Too Much\" produced by the legendary T.J. \"Tiny\" McFarland and engineered by the equally legendary Joe Gracey recorded at Lone Star Studios in Austin, Texas.  In addition to the core band, now featuring Keith Carper on upright bass and drummer Phil Johnson, The Border Blasters were joined by special guests Kimmie Rhodes, [[Ponty Bone]], Alvin Crow, Danny Levin, Freddie Krc, L.E. McCollough and Drew Castaneda.  This tape was well received in Texas, getting airplay on most non-commercial stations in Texas including [[KUT]] and reached the Top-20 of [[KNON]] in that year.{{citation needed|date=July 2012}}\\n\\nIn 1990 Jagger augmented his performances with The Border Blasters by joining the [[Austin Lounge Lizards]] to replace mandolinist Paul \"Tex\" Sweeney who had recently left the band.  During this time Jagger received two Austin Music Awards as part of that band.<ref>{{cite web|url=http://www.austinchronicle.com/Awards/MusicAwards/?year=1989&category=Best+Performing+Bands |title=Austin Music Awards |publisher=The Austin Chronicle |date= |accessdate=2012-08-19}}</ref><ref>{{cite web|url=http://www.austinchronicle.com/Awards/MusicAwards/?year=1990&category=Best+Performing+Bands |title=Austin Music Awards |publisher=The Austin Chronicle |date= |accessdate=2012-08-19}}</ref>  In 1991 Jagger left Austin to move to [[Fort Davis, Texas]].  Shortly thereafter Harrell moved to Fort Davis, too, and they continued playing in the area, returning to Austin occasionally for shows.\\n\\nIn 2007 Jagger sent the 2\" master tapes from the \"It\\'s Too Much\" album to friend David Sinko in [[Nashville]] to have the aging tape digitized.  Sinko, upon hearing the tracks, encouraged Jagger to let him remix and remaster the album.  They released the album in 2008 under the title \"Blast From The Past.\"  The album spent 3 months in the Top 10 of the Freeform American Roots music chart,<ref>{{cite web|url=http://www.tcmnradio.com/far/far102.htm |title=3rd Coast Music Magazine - FAR 102 JAN 2008 |publisher=Tcmnradio.com |date= |accessdate=2012-08-19}}</ref><ref>{{cite web|url=http://www.tcmnradio.com/far/far103.htm |title=3rd Coast Music Magazine - FAR 103 FEB 2008 |publisher=Tcmnradio.com |date= |accessdate=2012-08-19}}</ref><ref>{{cite web|url=http://www.tcmnradio.com/far/far104.htm |title=3rd Coast Music Magazine - FAR 104 MAR 2008 |publisher=Tcmnradio.com |date= |accessdate=2012-08-19}}</ref>  and was voted by reporting radio hosts the #2 Best Album in its category for 2008.<ref>{{cite web|url=http://www.tcmnradio.com/far/far_best2008.htm |title=3rd Coast Music Magazine - FAR and Away: Best of 2008 |publisher=Tcmnradio.com |date= |accessdate=2012-08-19}}</ref>  The album also reached #24 on the Euro-Americana Chart.\\n\\nThe Border Blasters appeared on the Main Stage at [[Kerrville Folk Festival]] in 2009 <ref>{{cite web|author=kerrvillefolkfest |url=https://www.youtube.com/watch?v=rp8z69B4UU4 |title=Kerrville Folk Festival 2009 - Day 17 Artist Performances |publisher=YouTube |date=2009-07-15 |accessdate=2012-08-19}}</ref> and were featured artists at the International [[Folk Alliance]] conferences in 2009 and 2010 <ref>{{cite web|url=http://www.prweb.com/releases/2009/10/prweb2972384.htm |title=Folk Alliance Lifetime Achievement Awards will be presented to Bob Dylan, Elizabeth Cotten, and The National Council for Traditional Arts (NCTA) on the opening night of the 2010 International Folk Alliance Conference, February 17, 2010 in Memphis. Early Bird Registration and Official Showcase Entry Deadline Nears for 22nd Annual International Folk Alliance Conference |publisher=Prweb.com |date= |accessdate=2012-08-19}}</ref> in [[Memphis]], Tennessee.  During one of these trips to Memphis the band recorded 8 tracks at [[Sun Studios]], with Mark Rubin on upright bass & tuba, releasing the album in 2011 as \"The Sun Session\", which also spent 2 months in the Top-20 of the Freeform American Roots Chart.<ref>{{cite web|url=http://www.tcmnradio.com/far/far142.htm |title=3rd Coast Music Magazine - FAR 142 May 2011 |publisher=Tcmnradio.com |date= |accessdate=2012-08-19}}</ref><ref>{{cite web|url=http://www.tcmnradio.com/far/far143.htm |title=3rd Coast Music Magazine - FAR 142 May 2011 |publisher=Tcmnradio.com |date= |accessdate=2012-08-19}}</ref>\\n\\n== Awards ==\\nTodd Jagger is a two-time Austin Music Awards winner with the Austin Lounge Lizards and was given Honorable Mention as the best mandolinist in Austin in the Music City Magazine Readers\\' Poll.  Jimmy Ray Harrell is a Kerrville Folk Festival New Folk Award winner and was on the 1972 festival album LP as one-half of the acoustic duo \"Lou-Ray\".<ref>https://digital.library.txstate.edu/bitstream/handle/10877/3833/fulltext.pdf</ref>\\n\\n== Reviews ==\\n*[http://w.americana-uk.com/auk/modules.php?op=modload&name=Reviews&file=index&req=showcontent&id=3768 AmericanaUK reviews \"Blast From The Past\"]\\n*[https://www.amazon.com/review/R1S1D16DNYN27G/ref=cm_cr_dp_title?ie=UTF8&ASIN=B0051OJIAI&nodeID=5174&store=music Steve Ramm \"Anything Phonographic\" reviews \"The Sun Session\" on Amazon.com]\\n\\n== External links ==\\n* [http://www.borderblasters.com/ Official Website]\\n\\n== References ==\\n{{reflist}}\\n\\n{{DEFAULTSORT:Border Blasters}}\\n[[Category:American folk musical groups]]\\n[[Category:Musical groups from Texas]]\\n[[Category:People from Jeff Davis County, Texas]]\\n[[Category:Musical groups established in 1976]]\\n[[Category:1976 establishments in Texas]]\\n[[Category:People from Austin, Texas]]',\n",
       "      'contentformat': 'text/x-wiki',\n",
       "      'contentmodel': 'wikitext'}],\n",
       "    'title': 'The Border Blasters'}}}}"
      ]
     },
     "execution_count": 22,
     "metadata": {},
     "output_type": "execute_result"
    }
   ],
   "source": [
    "get_article_params = {\n",
    "    'action' : 'query',\n",
    "    'format' : 'json',\n",
    "    'prop' : 'revisions',\n",
    "    'pageids' : '36494510|11173690|156002',\n",
    "    'rvprop' : 'content'\n",
    "}\n",
    "\n",
    "requests.get(query_article_url, params=get_article_params).json()"
   ]
  },
  {
   "cell_type": "code",
   "execution_count": 43,
   "metadata": {
    "collapsed": true
   },
   "outputs": [],
   "source": []
  },
  {
   "cell_type": "code",
   "execution_count": 51,
   "metadata": {
    "collapsed": false
   },
   "outputs": [
    {
     "name": "stdout",
     "output_type": "stream",
     "text": [
      "Wall time: 54.6 s\n"
     ]
    }
   ],
   "source": [
    "%%time\n",
    "article_data=[]\n",
    "for id, name in zip(sample['playerID'], sample['nameFull']):\n",
    "    search_params['srsearch'] = name\n",
    "    results = requests.get(query_article_url, params=search_params).json()\n",
    "    pageids = '|'.join([str(r['pageid']) for r in results['query']['search']])\n",
    "    #print(pageids)\n",
    "    \n",
    "    get_article_params['pageids'] = pageids\n",
    "    results = requests.get(query_article_url, params=get_article_params).json()\n",
    "    pages = results['query']['pages']\n",
    "    \n",
    "    for key in pages:\n",
    "        text = pages[key]['revisions'][0]['*']\n",
    "        title = pages[key]['title']\n",
    "        article_data.append({\n",
    "            'id' : id,\n",
    "            'name' : name,\n",
    "            'pageid' : key,\n",
    "            'title' : title,\n",
    "            'text' : text\n",
    "        })"
   ]
  },
  {
   "cell_type": "code",
   "execution_count": 52,
   "metadata": {
    "collapsed": false
   },
   "outputs": [],
   "source": [
    "article_df = pd.DataFrame(article_data)"
   ]
  },
  {
   "cell_type": "code",
   "execution_count": 54,
   "metadata": {
    "collapsed": false
   },
   "outputs": [
    {
     "data": {
      "text/plain": [
       "(500, 5)"
      ]
     },
     "execution_count": 54,
     "metadata": {},
     "output_type": "execute_result"
    }
   ],
   "source": [
    "article_df.shape"
   ]
  },
  {
   "cell_type": "code",
   "execution_count": null,
   "metadata": {
    "collapsed": false
   },
   "outputs": [],
   "source": [
    "article_df.to_csv('../data/processed/sample_articles.csv', index=False)"
   ]
  },
  {
   "cell_type": "code",
   "execution_count": null,
   "metadata": {
    "collapsed": false
   },
   "outputs": [],
   "source": [
    "article_df.head()"
   ]
  },
  {
   "cell_type": "code",
   "execution_count": 56,
   "metadata": {
    "collapsed": true
   },
   "outputs": [],
   "source": [
    "article_df[['id', 'pageid']].to_csv('../data/processed/sample_articles_label.csv', index=False)"
   ]
  },
  {
   "cell_type": "markdown",
   "metadata": {},
   "source": [
    "### After manually labeling the data..."
   ]
  },
  {
   "cell_type": "code",
   "execution_count": 4,
   "metadata": {
    "collapsed": false
   },
   "outputs": [],
   "source": [
    "article_df = pd.read_csv('../data/processed/sample_articles.csv', encoding=\"ISO-8859-1\", dtype='object')\n",
    "article_label_df = pd.read_csv('../data/processed/sample_articles_label.csv', dtype='object')"
   ]
  },
  {
   "cell_type": "code",
   "execution_count": 97,
   "metadata": {
    "collapsed": false
   },
   "outputs": [
    {
     "data": {
      "text/html": [
       "<div>\n",
       "<style>\n",
       "    .dataframe thead tr:only-child th {\n",
       "        text-align: right;\n",
       "    }\n",
       "\n",
       "    .dataframe thead th {\n",
       "        text-align: left;\n",
       "    }\n",
       "\n",
       "    .dataframe tbody tr th {\n",
       "        vertical-align: top;\n",
       "    }\n",
       "</style>\n",
       "<table border=\"1\" class=\"dataframe\">\n",
       "  <thead>\n",
       "    <tr style=\"text-align: right;\">\n",
       "      <th></th>\n",
       "      <th>id</th>\n",
       "      <th>pageid</th>\n",
       "      <th>label</th>\n",
       "    </tr>\n",
       "  </thead>\n",
       "  <tbody>\n",
       "    <tr>\n",
       "      <th>0</th>\n",
       "      <td>andrest01</td>\n",
       "      <td>55909</td>\n",
       "      <td>0</td>\n",
       "    </tr>\n",
       "    <tr>\n",
       "      <th>1</th>\n",
       "      <td>andrest01</td>\n",
       "      <td>99602</td>\n",
       "      <td>0</td>\n",
       "    </tr>\n",
       "    <tr>\n",
       "      <th>2</th>\n",
       "      <td>andrest01</td>\n",
       "      <td>116749</td>\n",
       "      <td>0</td>\n",
       "    </tr>\n",
       "    <tr>\n",
       "      <th>3</th>\n",
       "      <td>andrest01</td>\n",
       "      <td>7946185</td>\n",
       "      <td>0</td>\n",
       "    </tr>\n",
       "    <tr>\n",
       "      <th>4</th>\n",
       "      <td>andrest01</td>\n",
       "      <td>12839983</td>\n",
       "      <td>1</td>\n",
       "    </tr>\n",
       "  </tbody>\n",
       "</table>\n",
       "</div>"
      ],
      "text/plain": [
       "          id    pageid  label\n",
       "0  andrest01     55909      0\n",
       "1  andrest01     99602      0\n",
       "2  andrest01    116749      0\n",
       "3  andrest01   7946185      0\n",
       "4  andrest01  12839983      1"
      ]
     },
     "execution_count": 97,
     "metadata": {},
     "output_type": "execute_result"
    }
   ],
   "source": [
    "article_label_df.head()"
   ]
  },
  {
   "cell_type": "code",
   "execution_count": 5,
   "metadata": {
    "collapsed": false
   },
   "outputs": [],
   "source": [
    "labeled_set = article_df.merge(article_label_df, on=['id','pageid'])[['text','label']]"
   ]
  },
  {
   "cell_type": "code",
   "execution_count": 6,
   "metadata": {
    "collapsed": true
   },
   "outputs": [],
   "source": [
    "labeled_set.drop_duplicates(inplace=True)"
   ]
  },
  {
   "cell_type": "code",
   "execution_count": 7,
   "metadata": {
    "collapsed": false
   },
   "outputs": [
    {
     "data": {
      "text/plain": [
       "(491, 2)"
      ]
     },
     "execution_count": 7,
     "metadata": {},
     "output_type": "execute_result"
    }
   ],
   "source": [
    "labeled_set.shape"
   ]
  },
  {
   "cell_type": "code",
   "execution_count": 116,
   "metadata": {
    "collapsed": false
   },
   "outputs": [
    {
     "data": {
      "text/html": [
       "<div>\n",
       "<style>\n",
       "    .dataframe thead tr:only-child th {\n",
       "        text-align: right;\n",
       "    }\n",
       "\n",
       "    .dataframe thead th {\n",
       "        text-align: left;\n",
       "    }\n",
       "\n",
       "    .dataframe tbody tr th {\n",
       "        vertical-align: top;\n",
       "    }\n",
       "</style>\n",
       "<table border=\"1\" class=\"dataframe\">\n",
       "  <thead>\n",
       "    <tr style=\"text-align: right;\">\n",
       "      <th></th>\n",
       "      <th>text</th>\n",
       "      <th>label</th>\n",
       "    </tr>\n",
       "  </thead>\n",
       "  <tbody>\n",
       "    <tr>\n",
       "      <th>0</th>\n",
       "      <td>{{about|the band|the band's eponymous album|3 ...</td>\n",
       "      <td>0</td>\n",
       "    </tr>\n",
       "    <tr>\n",
       "      <th>1</th>\n",
       "      <td>{{Infobox NFL biography\\n|name=Graham Harrell\\...</td>\n",
       "      <td>0</td>\n",
       "    </tr>\n",
       "    <tr>\n",
       "      <th>2</th>\n",
       "      <td>{{Infobox baseball biography\\n|name=Ray Harrel...</td>\n",
       "      <td>1</td>\n",
       "    </tr>\n",
       "    <tr>\n",
       "      <th>3</th>\n",
       "      <td>{{for|the type of radio station|border blaster...</td>\n",
       "      <td>0</td>\n",
       "    </tr>\n",
       "    <tr>\n",
       "      <th>4</th>\n",
       "      <td>{{Use mdy dates|date=November 2017}}\\n{{Infobo...</td>\n",
       "      <td>0</td>\n",
       "    </tr>\n",
       "  </tbody>\n",
       "</table>\n",
       "</div>"
      ],
      "text/plain": [
       "                                                text label\n",
       "0  {{about|the band|the band's eponymous album|3 ...     0\n",
       "1  {{Infobox NFL biography\\n|name=Graham Harrell\\...     0\n",
       "2  {{Infobox baseball biography\\n|name=Ray Harrel...     1\n",
       "3  {{for|the type of radio station|border blaster...     0\n",
       "4  {{Use mdy dates|date=November 2017}}\\n{{Infobo...     0"
      ]
     },
     "execution_count": 116,
     "metadata": {},
     "output_type": "execute_result"
    }
   ],
   "source": [
    "labeled_set.head()"
   ]
  },
  {
   "cell_type": "code",
   "execution_count": 8,
   "metadata": {
    "collapsed": true
   },
   "outputs": [],
   "source": [
    "stopwords = set(corpus.stopwords.words('english'))\n",
    "stemmer = stem.snowball.EnglishStemmer()\n",
    "def process_text(text):\n",
    "    tokens = [stemmer.stem(t) for t in tokenize.word_tokenize(re.sub(r'\\W', ' ', text.lower())) if t.isalpha()]\n",
    "    return [t for t in tokens if t not in stopwords]"
   ]
  },
  {
   "cell_type": "code",
   "execution_count": 199,
   "metadata": {
    "collapsed": true
   },
   "outputs": [],
   "source": [
    "def train_and_score(data):\n",
    "    train, test = train_test_split(data)\n",
    "    X_train = train['text']\n",
    "    y_train = train['label']\n",
    "    X_test = test['text']\n",
    "    y_test = test['label']\n",
    "\n",
    "    tfidf_vect = TfidfVectorizer(tokenizer=process_text, max_df=0.95, min_df=0.01)\n",
    "    tfidf_matrix = tfidf_vect.fit_transform(X_train)\n",
    "\n",
    "    nb_model = MultinomialNB().fit(tfidf_matrix, y_train)\n",
    "\n",
    "    pred_values = nb_model.predict_proba(tfidf_vect.transform(X_test))[:,1]\n",
    "    #print(pred_values)\n",
    "\n",
    "    return roc_auc_score(y_test.astype('int'), pred_values)"
   ]
  },
  {
   "cell_type": "code",
   "execution_count": 200,
   "metadata": {
    "collapsed": false
   },
   "outputs": [],
   "source": [
    "score = [train_and_score(labeled_set) for n in range(10)]"
   ]
  },
  {
   "cell_type": "code",
   "execution_count": 191,
   "metadata": {
    "collapsed": false
   },
   "outputs": [
    {
     "data": {
      "text/plain": [
       "0.94817975956915956"
      ]
     },
     "execution_count": 191,
     "metadata": {},
     "output_type": "execute_result"
    }
   ],
   "source": [
    "sum(score)/len(score) #tfidf no min/max df"
   ]
  },
  {
   "cell_type": "code",
   "execution_count": 194,
   "metadata": {
    "collapsed": false
   },
   "outputs": [
    {
     "data": {
      "text/plain": [
       "0.97230283014643815"
      ]
     },
     "execution_count": 194,
     "metadata": {},
     "output_type": "execute_result"
    }
   ],
   "source": [
    "sum(score)/len(score) #tfidf max_df=0.95 min_df=0.01"
   ]
  },
  {
   "cell_type": "code",
   "execution_count": 201,
   "metadata": {
    "collapsed": false
   },
   "outputs": [
    {
     "data": {
      "text/plain": [
       "0.94395389778094008"
      ]
     },
     "execution_count": 201,
     "metadata": {},
     "output_type": "execute_result"
    }
   ],
   "source": [
    "sum(score)/len(score) #tf max_df=0.95 min_df=0.01"
   ]
  },
  {
   "cell_type": "code",
   "execution_count": 9,
   "metadata": {
    "collapsed": true
   },
   "outputs": [],
   "source": [
    "def train(data):\n",
    "    X = data['text']\n",
    "    y = data['label'].astype('int')\n",
    "    \n",
    "    tfidf_vect = TfidfVectorizer(tokenizer=process_text, max_df=0.95, min_df=0.01)\n",
    "    tfidf_matrix = tfidf_vect.fit_transform(X)\n",
    "    nb_model = MultinomialNB().fit(tfidf_matrix, y)\n",
    "    \n",
    "    return nb_model, tfidf_vect"
   ]
  },
  {
   "cell_type": "code",
   "execution_count": 11,
   "metadata": {
    "collapsed": true
   },
   "outputs": [],
   "source": [
    "nb, tfidf = train(labeled_set)"
   ]
  },
  {
   "cell_type": "code",
   "execution_count": 12,
   "metadata": {
    "collapsed": true
   },
   "outputs": [],
   "source": [
    "with open('../models/baseball_clf_nb_model.p', 'wb') as f:  pickle.dump(nb, f)"
   ]
  },
  {
   "cell_type": "code",
   "execution_count": 13,
   "metadata": {
    "collapsed": true
   },
   "outputs": [],
   "source": [
    "with open('../models/baseball_tfidf_vect.p', 'wb') as f:  pickle.dump(tfidf, f)"
   ]
  }
 ],
 "metadata": {
  "kernelspec": {
   "display_name": "Python 3",
   "language": "python",
   "name": "python3"
  },
  "language_info": {
   "codemirror_mode": {
    "name": "ipython",
    "version": 3
   },
   "file_extension": ".py",
   "mimetype": "text/x-python",
   "name": "python",
   "nbconvert_exporter": "python",
   "pygments_lexer": "ipython3",
   "version": "3.6.0"
  }
 },
 "nbformat": 4,
 "nbformat_minor": 2
}

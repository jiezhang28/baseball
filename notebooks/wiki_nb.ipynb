{
 "cells": [
  {
   "cell_type": "code",
   "execution_count": 1,
   "metadata": {
    "collapsed": true
   },
   "outputs": [],
   "source": [
    "import pandas as pd\n",
    "import requests\n",
    "import re\n",
    "import numpy as np\n",
    "import pickle\n",
    "from sklearn.naive_bayes import MultinomialNB\n",
    "from sklearn.feature_extraction.text import TfidfVectorizer, CountVectorizer, TfidfTransformer\n",
    "from sklearn.model_selection import train_test_split\n",
    "from sklearn.metrics import roc_auc_score\n",
    "from nltk import tokenize, stem, corpus"
   ]
  },
  {
   "cell_type": "code",
   "execution_count": 2,
   "metadata": {
    "collapsed": true
   },
   "outputs": [],
   "source": [
    "df = pd.read_csv('../data/raw/baseball/Master.csv')"
   ]
  },
  {
   "cell_type": "code",
   "execution_count": 225,
   "metadata": {
    "collapsed": false
   },
   "outputs": [
    {
     "data": {
      "text/plain": [
       "(18846, 25)"
      ]
     },
     "execution_count": 225,
     "metadata": {},
     "output_type": "execute_result"
    }
   ],
   "source": [
    "df.shape"
   ]
  },
  {
   "cell_type": "code",
   "execution_count": 8,
   "metadata": {
    "collapsed": true
   },
   "outputs": [],
   "source": [
    "df['nameFull'] = df['nameFirst'] + ' ' + df['nameLast']"
   ]
  },
  {
   "cell_type": "code",
   "execution_count": 224,
   "metadata": {
    "collapsed": false
   },
   "outputs": [
    {
     "data": {
      "text/plain": [
       "(18807, 25)"
      ]
     },
     "execution_count": 224,
     "metadata": {},
     "output_type": "execute_result"
    }
   ],
   "source": [
    "df[df['nameFull'].notnull()].shape"
   ]
  },
  {
   "cell_type": "code",
   "execution_count": 10,
   "metadata": {
    "collapsed": false
   },
   "outputs": [],
   "source": [
    "sample = df[['playerID', 'nameFull']].sample(n=100)"
   ]
  },
  {
   "cell_type": "code",
   "execution_count": 11,
   "metadata": {
    "collapsed": false
   },
   "outputs": [
    {
     "data": {
      "text/html": [
       "<div>\n",
       "<style>\n",
       "    .dataframe thead tr:only-child th {\n",
       "        text-align: right;\n",
       "    }\n",
       "\n",
       "    .dataframe thead th {\n",
       "        text-align: left;\n",
       "    }\n",
       "\n",
       "    .dataframe tbody tr th {\n",
       "        vertical-align: top;\n",
       "    }\n",
       "</style>\n",
       "<table border=\"1\" class=\"dataframe\">\n",
       "  <thead>\n",
       "    <tr style=\"text-align: right;\">\n",
       "      <th></th>\n",
       "      <th>playerID</th>\n",
       "      <th>nameFull</th>\n",
       "    </tr>\n",
       "  </thead>\n",
       "  <tbody>\n",
       "    <tr>\n",
       "      <th>7049</th>\n",
       "      <td>harrera01</td>\n",
       "      <td>Ray Harrell</td>\n",
       "    </tr>\n",
       "    <tr>\n",
       "      <th>17950</th>\n",
       "      <td>weisswa01</td>\n",
       "      <td>Walt Weiss</td>\n",
       "    </tr>\n",
       "    <tr>\n",
       "      <th>14272</th>\n",
       "      <td>rigglji99</td>\n",
       "      <td>Jim Riggleman</td>\n",
       "    </tr>\n",
       "    <tr>\n",
       "      <th>1930</th>\n",
       "      <td>brottto01</td>\n",
       "      <td>Tony Brottem</td>\n",
       "    </tr>\n",
       "    <tr>\n",
       "      <th>524</th>\n",
       "      <td>austiri01</td>\n",
       "      <td>Rick Austin</td>\n",
       "    </tr>\n",
       "  </tbody>\n",
       "</table>\n",
       "</div>"
      ],
      "text/plain": [
       "        playerID       nameFull\n",
       "7049   harrera01    Ray Harrell\n",
       "17950  weisswa01     Walt Weiss\n",
       "14272  rigglji99  Jim Riggleman\n",
       "1930   brottto01   Tony Brottem\n",
       "524    austiri01    Rick Austin"
      ]
     },
     "execution_count": 11,
     "metadata": {},
     "output_type": "execute_result"
    }
   ],
   "source": [
    "sample.head()"
   ]
  },
  {
   "cell_type": "code",
   "execution_count": 19,
   "metadata": {
    "collapsed": true
   },
   "outputs": [],
   "source": [
    "query_article_url = 'https://en.wikipedia.org/w/api.php'\n",
    "\n",
    "search_params = {\n",
    "    'action' : 'query',\n",
    "    'format' : 'json',\n",
    "    'list' : 'search',\n",
    "    #'srsearch' : term,\n",
    "    'srlimit' : 5\n",
    "    #'srprop' : 'snippet|categorysnippet|sectionsnippet|titlesnippet'\n",
    "}"
   ]
  },
  {
   "cell_type": "code",
   "execution_count": 212,
   "metadata": {
    "collapsed": false
   },
   "outputs": [],
   "source": [
    "search_params['srsearch'] = 'Whitey Alpermann'\n",
    "results = requests.get(query_article_url, params=search_params).json()"
   ]
  },
  {
   "cell_type": "code",
   "execution_count": 213,
   "metadata": {
    "collapsed": false
   },
   "outputs": [
    {
     "data": {
      "text/plain": [
       "{'batchcomplete': '',\n",
       " 'query': {'search': [],\n",
       "  'searchinfo': {'suggestion': 'whitey alperman',\n",
       "   'suggestionsnippet': 'whitey <em>alperman</em>',\n",
       "   'totalhits': 0}}}"
      ]
     },
     "execution_count": 213,
     "metadata": {},
     "output_type": "execute_result"
    }
   ],
   "source": [
    "results"
   ]
  },
  {
   "cell_type": "code",
   "execution_count": null,
   "metadata": {
    "collapsed": false
   },
   "outputs": [],
   "source": [
    "get_article_params = {\n",
    "    'action' : 'query',\n",
    "    'format' : 'json',\n",
    "    'prop' : 'revisions',\n",
    "    'pageids' : '36494510|11173690|156002',\n",
    "    'rvprop' : 'content'\n",
    "}\n",
    "\n",
    "requests.get(query_article_url, params=get_article_params).json()"
   ]
  },
  {
   "cell_type": "code",
   "execution_count": 43,
   "metadata": {
    "collapsed": true
   },
   "outputs": [],
   "source": []
  },
  {
   "cell_type": "code",
   "execution_count": 51,
   "metadata": {
    "collapsed": false
   },
   "outputs": [
    {
     "name": "stdout",
     "output_type": "stream",
     "text": [
      "Wall time: 54.6 s\n"
     ]
    }
   ],
   "source": [
    "%%time\n",
    "article_data=[]\n",
    "for id, name in zip(sample['playerID'], sample['nameFull']):\n",
    "    search_params['srsearch'] = name\n",
    "    results = requests.get(query_article_url, params=search_params).json()\n",
    "    pageids = '|'.join([str(r['pageid']) for r in results['query']['search']])\n",
    "    #print(pageids)\n",
    "    \n",
    "    get_article_params['pageids'] = pageids\n",
    "    results = requests.get(query_article_url, params=get_article_params).json()\n",
    "    pages = results['query']['pages']\n",
    "    \n",
    "    for key in pages:\n",
    "        text = pages[key]['revisions'][0]['*']\n",
    "        title = pages[key]['title']\n",
    "        article_data.append({\n",
    "            'id' : id,\n",
    "            'name' : name,\n",
    "            'pageid' : key,\n",
    "            'title' : title,\n",
    "            'text' : text\n",
    "        })"
   ]
  },
  {
   "cell_type": "code",
   "execution_count": 52,
   "metadata": {
    "collapsed": false
   },
   "outputs": [],
   "source": [
    "article_df = pd.DataFrame(article_data)"
   ]
  },
  {
   "cell_type": "code",
   "execution_count": 54,
   "metadata": {
    "collapsed": false
   },
   "outputs": [
    {
     "data": {
      "text/plain": [
       "(500, 5)"
      ]
     },
     "execution_count": 54,
     "metadata": {},
     "output_type": "execute_result"
    }
   ],
   "source": [
    "article_df.shape"
   ]
  },
  {
   "cell_type": "code",
   "execution_count": null,
   "metadata": {
    "collapsed": false
   },
   "outputs": [],
   "source": [
    "article_df.to_csv('../data/processed/sample_articles.csv', index=False)"
   ]
  },
  {
   "cell_type": "code",
   "execution_count": null,
   "metadata": {
    "collapsed": false
   },
   "outputs": [],
   "source": [
    "article_df.head()"
   ]
  },
  {
   "cell_type": "code",
   "execution_count": 56,
   "metadata": {
    "collapsed": true
   },
   "outputs": [],
   "source": [
    "article_df[['id', 'pageid']].to_csv('../data/processed/sample_articles_label.csv', index=False)"
   ]
  },
  {
   "cell_type": "markdown",
   "metadata": {},
   "source": [
    "### After manually labeling the data..."
   ]
  },
  {
   "cell_type": "code",
   "execution_count": 4,
   "metadata": {
    "collapsed": false
   },
   "outputs": [],
   "source": [
    "article_df = pd.read_csv('../data/processed/sample_articles.csv', encoding=\"ISO-8859-1\", dtype='object')\n",
    "article_label_df = pd.read_csv('../data/processed/sample_articles_label.csv', dtype='object')"
   ]
  },
  {
   "cell_type": "code",
   "execution_count": 97,
   "metadata": {
    "collapsed": false
   },
   "outputs": [
    {
     "data": {
      "text/html": [
       "<div>\n",
       "<style>\n",
       "    .dataframe thead tr:only-child th {\n",
       "        text-align: right;\n",
       "    }\n",
       "\n",
       "    .dataframe thead th {\n",
       "        text-align: left;\n",
       "    }\n",
       "\n",
       "    .dataframe tbody tr th {\n",
       "        vertical-align: top;\n",
       "    }\n",
       "</style>\n",
       "<table border=\"1\" class=\"dataframe\">\n",
       "  <thead>\n",
       "    <tr style=\"text-align: right;\">\n",
       "      <th></th>\n",
       "      <th>id</th>\n",
       "      <th>pageid</th>\n",
       "      <th>label</th>\n",
       "    </tr>\n",
       "  </thead>\n",
       "  <tbody>\n",
       "    <tr>\n",
       "      <th>0</th>\n",
       "      <td>andrest01</td>\n",
       "      <td>55909</td>\n",
       "      <td>0</td>\n",
       "    </tr>\n",
       "    <tr>\n",
       "      <th>1</th>\n",
       "      <td>andrest01</td>\n",
       "      <td>99602</td>\n",
       "      <td>0</td>\n",
       "    </tr>\n",
       "    <tr>\n",
       "      <th>2</th>\n",
       "      <td>andrest01</td>\n",
       "      <td>116749</td>\n",
       "      <td>0</td>\n",
       "    </tr>\n",
       "    <tr>\n",
       "      <th>3</th>\n",
       "      <td>andrest01</td>\n",
       "      <td>7946185</td>\n",
       "      <td>0</td>\n",
       "    </tr>\n",
       "    <tr>\n",
       "      <th>4</th>\n",
       "      <td>andrest01</td>\n",
       "      <td>12839983</td>\n",
       "      <td>1</td>\n",
       "    </tr>\n",
       "  </tbody>\n",
       "</table>\n",
       "</div>"
      ],
      "text/plain": [
       "          id    pageid  label\n",
       "0  andrest01     55909      0\n",
       "1  andrest01     99602      0\n",
       "2  andrest01    116749      0\n",
       "3  andrest01   7946185      0\n",
       "4  andrest01  12839983      1"
      ]
     },
     "execution_count": 97,
     "metadata": {},
     "output_type": "execute_result"
    }
   ],
   "source": [
    "article_label_df.head()"
   ]
  },
  {
   "cell_type": "code",
   "execution_count": 5,
   "metadata": {
    "collapsed": false
   },
   "outputs": [],
   "source": [
    "labeled_set = article_df.merge(article_label_df, on=['id','pageid'])[['text','label']]"
   ]
  },
  {
   "cell_type": "code",
   "execution_count": 6,
   "metadata": {
    "collapsed": true
   },
   "outputs": [],
   "source": [
    "labeled_set.drop_duplicates(inplace=True)"
   ]
  },
  {
   "cell_type": "code",
   "execution_count": 7,
   "metadata": {
    "collapsed": false
   },
   "outputs": [
    {
     "data": {
      "text/plain": [
       "(491, 2)"
      ]
     },
     "execution_count": 7,
     "metadata": {},
     "output_type": "execute_result"
    }
   ],
   "source": [
    "labeled_set.shape"
   ]
  },
  {
   "cell_type": "code",
   "execution_count": 116,
   "metadata": {
    "collapsed": false
   },
   "outputs": [
    {
     "data": {
      "text/html": [
       "<div>\n",
       "<style>\n",
       "    .dataframe thead tr:only-child th {\n",
       "        text-align: right;\n",
       "    }\n",
       "\n",
       "    .dataframe thead th {\n",
       "        text-align: left;\n",
       "    }\n",
       "\n",
       "    .dataframe tbody tr th {\n",
       "        vertical-align: top;\n",
       "    }\n",
       "</style>\n",
       "<table border=\"1\" class=\"dataframe\">\n",
       "  <thead>\n",
       "    <tr style=\"text-align: right;\">\n",
       "      <th></th>\n",
       "      <th>text</th>\n",
       "      <th>label</th>\n",
       "    </tr>\n",
       "  </thead>\n",
       "  <tbody>\n",
       "    <tr>\n",
       "      <th>0</th>\n",
       "      <td>{{about|the band|the band's eponymous album|3 ...</td>\n",
       "      <td>0</td>\n",
       "    </tr>\n",
       "    <tr>\n",
       "      <th>1</th>\n",
       "      <td>{{Infobox NFL biography\\n|name=Graham Harrell\\...</td>\n",
       "      <td>0</td>\n",
       "    </tr>\n",
       "    <tr>\n",
       "      <th>2</th>\n",
       "      <td>{{Infobox baseball biography\\n|name=Ray Harrel...</td>\n",
       "      <td>1</td>\n",
       "    </tr>\n",
       "    <tr>\n",
       "      <th>3</th>\n",
       "      <td>{{for|the type of radio station|border blaster...</td>\n",
       "      <td>0</td>\n",
       "    </tr>\n",
       "    <tr>\n",
       "      <th>4</th>\n",
       "      <td>{{Use mdy dates|date=November 2017}}\\n{{Infobo...</td>\n",
       "      <td>0</td>\n",
       "    </tr>\n",
       "  </tbody>\n",
       "</table>\n",
       "</div>"
      ],
      "text/plain": [
       "                                                text label\n",
       "0  {{about|the band|the band's eponymous album|3 ...     0\n",
       "1  {{Infobox NFL biography\\n|name=Graham Harrell\\...     0\n",
       "2  {{Infobox baseball biography\\n|name=Ray Harrel...     1\n",
       "3  {{for|the type of radio station|border blaster...     0\n",
       "4  {{Use mdy dates|date=November 2017}}\\n{{Infobo...     0"
      ]
     },
     "execution_count": 116,
     "metadata": {},
     "output_type": "execute_result"
    }
   ],
   "source": [
    "labeled_set.head()"
   ]
  },
  {
   "cell_type": "code",
   "execution_count": 8,
   "metadata": {
    "collapsed": true
   },
   "outputs": [],
   "source": [
    "stopwords = set(corpus.stopwords.words('english'))\n",
    "stemmer = stem.snowball.EnglishStemmer()\n",
    "def process_text(text):\n",
    "    tokens = [stemmer.stem(t) for t in tokenize.word_tokenize(re.sub(r'\\W', ' ', text.lower())) if t.isalpha()]\n",
    "    return [t for t in tokens if t not in stopwords]"
   ]
  },
  {
   "cell_type": "code",
   "execution_count": 199,
   "metadata": {
    "collapsed": true
   },
   "outputs": [],
   "source": [
    "def train_and_score(data):\n",
    "    train, test = train_test_split(data)\n",
    "    X_train = train['text']\n",
    "    y_train = train['label']\n",
    "    X_test = test['text']\n",
    "    y_test = test['label']\n",
    "\n",
    "    tfidf_vect = TfidfVectorizer(tokenizer=process_text, max_df=0.95, min_df=0.01)\n",
    "    tfidf_matrix = tfidf_vect.fit_transform(X_train)\n",
    "\n",
    "    nb_model = MultinomialNB().fit(tfidf_matrix, y_train)\n",
    "\n",
    "    pred_values = nb_model.predict_proba(tfidf_vect.transform(X_test))[:,1]\n",
    "    #print(pred_values)\n",
    "\n",
    "    return roc_auc_score(y_test.astype('int'), pred_values)"
   ]
  },
  {
   "cell_type": "code",
   "execution_count": 200,
   "metadata": {
    "collapsed": false
   },
   "outputs": [],
   "source": [
    "score = [train_and_score(labeled_set) for n in range(10)]"
   ]
  },
  {
   "cell_type": "code",
   "execution_count": 191,
   "metadata": {
    "collapsed": false
   },
   "outputs": [
    {
     "data": {
      "text/plain": [
       "0.94817975956915956"
      ]
     },
     "execution_count": 191,
     "metadata": {},
     "output_type": "execute_result"
    }
   ],
   "source": [
    "sum(score)/len(score) #tfidf no min/max df"
   ]
  },
  {
   "cell_type": "code",
   "execution_count": 194,
   "metadata": {
    "collapsed": false
   },
   "outputs": [
    {
     "data": {
      "text/plain": [
       "0.97230283014643815"
      ]
     },
     "execution_count": 194,
     "metadata": {},
     "output_type": "execute_result"
    }
   ],
   "source": [
    "sum(score)/len(score) #tfidf max_df=0.95 min_df=0.01"
   ]
  },
  {
   "cell_type": "code",
   "execution_count": 201,
   "metadata": {
    "collapsed": false
   },
   "outputs": [
    {
     "data": {
      "text/plain": [
       "0.94395389778094008"
      ]
     },
     "execution_count": 201,
     "metadata": {},
     "output_type": "execute_result"
    }
   ],
   "source": [
    "sum(score)/len(score) #tf max_df=0.95 min_df=0.01"
   ]
  },
  {
   "cell_type": "code",
   "execution_count": 9,
   "metadata": {
    "collapsed": true
   },
   "outputs": [],
   "source": [
    "def train(data):\n",
    "    X = data['text']\n",
    "    y = data['label'].astype('int')\n",
    "    \n",
    "    tfidf_vect = TfidfVectorizer(tokenizer=process_text, max_df=0.95, min_df=0.01)\n",
    "    tfidf_matrix = tfidf_vect.fit_transform(X)\n",
    "    nb_model = MultinomialNB().fit(tfidf_matrix, y)\n",
    "    \n",
    "    return nb_model, tfidf_vect"
   ]
  },
  {
   "cell_type": "code",
   "execution_count": 11,
   "metadata": {
    "collapsed": true
   },
   "outputs": [],
   "source": [
    "nb, tfidf = train(labeled_set)"
   ]
  },
  {
   "cell_type": "code",
   "execution_count": 12,
   "metadata": {
    "collapsed": true
   },
   "outputs": [],
   "source": [
    "with open('../models/baseball_clf_nb_model.p', 'wb') as f:  pickle.dump(nb, f)"
   ]
  },
  {
   "cell_type": "code",
   "execution_count": 13,
   "metadata": {
    "collapsed": true
   },
   "outputs": [],
   "source": [
    "with open('../models/baseball_tfidf_vect.p', 'wb') as f:  pickle.dump(tfidf, f)"
   ]
  }
 ],
 "metadata": {
  "kernelspec": {
   "display_name": "Python 3",
   "language": "python",
   "name": "python3"
  },
  "language_info": {
   "codemirror_mode": {
    "name": "ipython",
    "version": 3
   },
   "file_extension": ".py",
   "mimetype": "text/x-python",
   "name": "python",
   "nbconvert_exporter": "python",
   "pygments_lexer": "ipython3",
   "version": "3.6.0"
  }
 },
 "nbformat": 4,
 "nbformat_minor": 2
}
